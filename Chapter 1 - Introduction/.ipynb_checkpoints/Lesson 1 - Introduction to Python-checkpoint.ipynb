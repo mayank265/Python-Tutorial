{
 "cells": [
  {
   "cell_type": "markdown",
   "metadata": {},
   "source": [
    "# INTRODUCTION TO PYTHON PROGRAMMING\n",
    "- Python is written in `C`. It was developed by `Guido Van Rossum` in the late `1980s`."
   ]
  },
  {
   "cell_type": "markdown",
   "metadata": {},
   "source": [
    "## FEATURES OF PYTHON\n",
    "1. `Easy`\n",
    "Python is easy to learn and understand. As a matter of fact, if you are from a programming background you will find it elegant and uncluttered. The removal of braces and parentheses makes the code short and sweet. Also, some of the tasks in Python are pretty easy. \n",
    "2. `Type and Run`\n",
    "In most projects, testing something new requires scores of changes and therefore recompilations and re-runs. This makes testing of code a difficult and time-consuming task. In Python, a code can be run easily. As a matter of fact, we run scripts in Python.\n",
    "Python also provides the user with an interactive environment, in which one can run independent commands, like Jupyter Notebook, Google Collab, etc.\n",
    "3. `Syntax`\n",
    "The syntax of Python is easy; this makes the learning and understanding process easy. According to most of authors, the three main features which make Python attractive are that it’s simple, small, and flexible.\n",
    "4. `Mixing`\n",
    "If one is working on a big project, with perhaps a large team, it might be the case that some of the team members are good in other programming languages. This may lead to some of the modules in some other languages wanting to be embedded with the core Python code. Python allows and even supports this.\n",
    "5. `Dynamic Typing`\n",
    "Python has its own way of managing memory associated with objects. When an object is created in Python, memory is dynamically allocated to it. When the life cycle of the object ends, the memory is taken back from it. This memory management of Python makes the programs more efficient.\n",
    "6. `Built in Object Types`\n",
    "As we will see in the next chapter Python has built in object types. This makes the task to be accomplished easy and manageable. Moreover, the issues related to these objects are beautifully handled by the language.\n",
    "7. `Numerous Libraries and Tools`\n",
    "In Python, the task to be accomplished becomes easy—really easy. This is because most of the common tasks (as a matter of fact, not so common tasks too) have already been handled in Python. For example, Python has libraries which help users to develop GUI’s, write mobile applications, incorporate security features and even read MRI’s (Magnetic resonance imaging). As we will see in the following chapters, the libraries and supporting tools make even the intricate tasks like pattern recognition easy.\n",
    "8. `Portable`\n",
    "A program written in Python can run in almost every known platform, be it Windows, Linux, or Mac. It may also be stated here that Python is written in C\n",
    "9. `Free`\n",
    "Python is not propriety software. One can download Python compilers from among the various available choices. Moreover, there are no known legal issues involved in the distribution of the code developed in Python.\n",
    "10. `Readable and Maintainable Code`\n",
    "While writing a software application, you must focus on the quality of its source code to simplify maintenance and updates. The syntax rules of Python allow you to express concepts without writing additional code. At the same time, Python, unlike other programming languages, emphasizes on code readability, and allows you to use English keywords instead of punctuations. Hence, you can use Python to build custom applications without writing additional code. The readable and clean code base will help you to maintain and update the software without putting extra time and effort.\n",
    "11. `Multiple Programming Paradigms`\n",
    "Like other modern programming languages, Python also supports several programming paradigms. It supports object oriented and structured programming fully. Also, its language features support various concepts in functional and aspect-oriented programming. \n",
    "12. `Compatible with Major Platforms and Systems`\n",
    "At present, Python is supporting many operating systems. You can even use Python interpreters to run the code on specific platforms and tools. Also, Python is an interpreted programming language. It allows you to you to run the same code on multiple platforms without recompilation. Hence, you are not required to recompile the code after making any alteration. You can run the modified application code without recompiling and check the impact of changes made to the code immediately. The feature makes it easier for you to make changes to the code without increasing development time.\n",
    "13. `Robust Standard Library`\n",
    "14. `Many Open-Source Frameworks and Tools`\n",
    "15. `Simplify Complex Software Development`\n",
    "16. `Adopt Test Driven Development`"
   ]
  },
  {
   "cell_type": "markdown",
   "metadata": {},
   "source": [
    "## THE PARADIGMS\n",
    "1. `Procedural`\n",
    "- In a procedural language, a program is actually a set of statements which execute sequentially. The only option a program has, in terms of manageability, is dividing the program into small modules. “C,” for example, is a procedural language. Python supports procedural programming. \n",
    "2. `Object-Oriented`\n",
    "- This type of language primarily focuses on the instance of a class. The instance of a class is called an object. A class is a real or a virtual entity that has an importance to the problem at hand and has sharp physical boundaries. For example in a program that deals with student management, “student” can be a class. Its instances are made and the task at hand can be accomplished by communicating via methods. Python is object-oriented.\n",
    "3. `Functional`\n",
    "- Python also supports functional programming. Moreover, Python supports immutable data, tail optimization, etc. This must be music to the ears for those from a functional programming background. \n",
    "4. `Event-Driven Programming`\n",
    "- An event is something that causes an event-driven program to perform an action. This broad definition allows many programs to be understood as event-driven; consider, for example, a simple program that prints either Hello or World! depending on user input.\n"
   ]
  },
  {
   "cell_type": "markdown",
   "metadata": {},
   "source": [
    "## Uses of Python\n",
    "Python is being used to accomplish many tasks, the most important of which are as follows:\n",
    "1.\t`Graphical User Interface (GUI)` development\n",
    "\n",
    "    Python provides various options for developing graphical user interfaces (GUIs). Most important are listed below.\n",
    "    - Tkinter − Tkinter is the Python interface to the Tk GUI toolkit shipped with Python. We would look this option in this chapter.\n",
    "    - wxPython − This is an open-source Python interface for wxWindows http://wxpython.org.\n",
    "    - JPython − JPython is a Python port for Java which gives Python scripts seamless access to Java class libraries on the local machine http://www.jython.org.\n",
    "    - There are many other interfaces available, which you can find them on the internet. https://www.tutorialspoint.com/python/python_gui_programming.htm\n",
    "\n",
    "2.\tScripting web pages\n",
    "3.\tDatabase programming\n",
    "4.\tPrototyping\n",
    "5.\tGaming\n",
    "6.\tComponent based programming\n",
    "7.\tWeb Applications\n",
    "8.\tFor Data Science and Data Visualization\n",
    "9.\tMachine Learning\n",
    "10.\tScript for Vulnerability Testing\n",
    "11.\tEmbedded Systems\n",
    "12.\tRobotics\n",
    "13.\tArtificial Intelligence\n"
   ]
  },
  {
   "cell_type": "markdown",
   "metadata": {},
   "source": [
    "## Python Requirements\n"
   ]
  },
  {
   "cell_type": "markdown",
   "metadata": {},
   "source": [
    "### 1. Interpreter or `Python Interpreter` (*Required)  \n",
    "- If you are working in `Unix` or `Linux`, you don’t need to install `Python`. This is because in Unix and Linux systems, Python is generally pre-installed. \n",
    "- However, if you work in `Windows` or `Mac` then you need to download `Python`. Once you have decided to download Python, look for its latest version. The reader is requested to ensure that the version he/she intends to download is not an alpha or a beta version. Download at `https://www.python.org/` "
   ]
  },
  {
   "cell_type": "markdown",
   "metadata": {},
   "source": [
    "### 2. Integrated Development Environment (IDE) (*Choice #1)  \n",
    "Many Integrated Development Environments are available for Python.  \n",
    "Some of them are as follows:\n",
    "- PyDev\n",
    "- Anaconda\n",
    "- `Pycharm`\n",
    "- IDLE\n",
    "- Spyder\n",
    "- Jupyter Notebook"
   ]
  },
  {
   "cell_type": "markdown",
   "metadata": {},
   "source": [
    "### 3. Text Editor with Python Debugger plugins or Extension. (*Choice #2)  \n",
    "- `Visual Studio Code` + (`Python` - VSCode Extension by Microsoft)\n",
    "- Sublime\n",
    "- Atom\n",
    "- Notepad++"
   ]
  },
  {
   "cell_type": "markdown",
   "metadata": {},
   "source": [
    "Note: You can chose only one in `IDE` or a `Text Editor`. Python `Interpreter` is required."
   ]
  }
 ],
 "metadata": {
  "kernelspec": {
   "display_name": "Python 3 (ipykernel)",
   "language": "python",
   "name": "python3"
  },
  "language_info": {
   "codemirror_mode": {
    "name": "ipython",
    "version": 3
   },
   "file_extension": ".py",
   "mimetype": "text/x-python",
   "name": "python",
   "nbconvert_exporter": "python",
   "pygments_lexer": "ipython3",
   "version": "3.9.7"
  },
  "vscode": {
   "interpreter": {
    "hash": "3103f0df81466cced26978c1f00aec304c6c4f54b027625b12ba1120a1fef288"
   }
  }
 },
 "nbformat": 4,
 "nbformat_minor": 2
}
