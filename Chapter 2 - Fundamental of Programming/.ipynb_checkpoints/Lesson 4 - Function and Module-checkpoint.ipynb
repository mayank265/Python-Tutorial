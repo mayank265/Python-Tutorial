{
 "cells": [
  {
   "cell_type": "markdown",
   "metadata": {},
   "source": [
    "# Function\n",
    "## A Function Contains:\n",
    "1. Name of function\n",
    "2. Parameter (separated by comma inside parenthesis)\n",
    "3. Body of the function"
   ]
  },
  {
   "cell_type": "markdown",
   "metadata": {},
   "source": [
    "## Defining a Function\n",
    "- Using `def` keyword followed by function name and parenthesis\n",
    "- Colon is always used for statements with a block of code like control structures, function, class.\n",
    "\n",
    "### Syntax"
   ]
  },
  {
   "cell_type": "code",
   "execution_count": 1,
   "metadata": {},
   "outputs": [],
   "source": [
    "\"\"\"\n",
    "def function_name(parameters):\n",
    "    body of function (code blocks)\n",
    "\"\"\"\n",
    "def myFunction():\n",
    "    print(\"This is my function\")"
   ]
  },
  {
   "cell_type": "markdown",
   "metadata": {},
   "source": [
    "## Calling a Function\n",
    "- To use a function, just call it name followed by parenthesis"
   ]
  },
  {
   "cell_type": "code",
   "execution_count": 2,
   "metadata": {},
   "outputs": [
    {
     "name": "stdout",
     "output_type": "stream",
     "text": [
      "This is my function\n"
     ]
    }
   ],
   "source": [
    "myFunction()"
   ]
  },
  {
   "cell_type": "markdown",
   "metadata": {},
   "source": [
    "## Parameter and Argument\n",
    "- The terms parameter and argument can be used for the same thing: information that are passed into a function."
   ]
  },
  {
   "cell_type": "markdown",
   "metadata": {},
   "source": [
    "### Parameter\n",
    "- A parameter is the variable listed inside the parentheses in the function definition."
   ]
  },
  {
   "cell_type": "code",
   "execution_count": 3,
   "metadata": {},
   "outputs": [],
   "source": [
    "def mySampleFunction(param1, param2):\n",
    "    print(f\"This is my function that display the value {param1} and {param2}.\")"
   ]
  },
  {
   "cell_type": "markdown",
   "metadata": {},
   "source": [
    "### Arguments (args)\n",
    "- An argument is the value that is sent to the function when it is called."
   ]
  },
  {
   "cell_type": "code",
   "execution_count": 4,
   "metadata": {},
   "outputs": [
    {
     "name": "stdout",
     "output_type": "stream",
     "text": [
      "This is my function that display the value First Argument and Second Argument.\n"
     ]
    }
   ],
   "source": [
    "# args\n",
    "arg1 = \"First Argument\"\n",
    "mySampleFunction(arg1, \"Second Argument\")"
   ]
  },
  {
   "cell_type": "markdown",
   "metadata": {},
   "source": [
    "`NOTE: By default, a function must be called with the correct number of arguments. Meaning that if your function expects 2 arguments, you have to call the function with 2 arguments, not more, and not less.`"
   ]
  },
  {
   "cell_type": "markdown",
   "metadata": {},
   "source": [
    "### Keyword Arguments (kwargs)\n",
    "- You can also send arguments with the key = value syntax. This way the order of the arguments does not matter."
   ]
  },
  {
   "cell_type": "markdown",
   "metadata": {},
   "source": [
    "`NOTE: Since kwargs is used key, the name of parameter must be the same as the name of key in kwargs or else it gives an error. Not same order of parameter or kwargs does not matter, because the value of an argument is get using the key thats why you need to make the same keyName and ParameterName.`\n",
    "\n",
    "`def myFunction(paramName2, paramName1): `\n",
    "`       code block....`\n",
    "\n",
    "`myFunction(keyName1 = \"value\" , keyName2 = \"value\" )`"
   ]
  },
  {
   "cell_type": "code",
   "execution_count": 5,
   "metadata": {},
   "outputs": [
    {
     "name": "stdout",
     "output_type": "stream",
     "text": [
      "The youngest child is Argus.\n"
     ]
    }
   ],
   "source": [
    "def mySampleFunction_with_KWARGS(child2, child1, child3):\n",
    "    print(f\"The youngest child is {child1}.\")\n",
    "\n",
    "\n",
    "# kwargs\n",
    "name1 = \"Argus\"\n",
    "mySampleFunction_with_KWARGS(child1 = name1, child2 = \"Athena\", child3 = \"Tres\")"
   ]
  },
  {
   "cell_type": "markdown",
   "metadata": {},
   "source": [
    "### Arbitrary Arguments (*args)\n",
    "- If you do not know how many arguments that will be passed into your function, add a `*` before the parameter name in the function definition.\n",
    "\n",
    "This way the function will receive a `tuple` of arguments, and can access the items accordingly:"
   ]
  },
  {
   "cell_type": "code",
   "execution_count": 9,
   "metadata": {},
   "outputs": [
    {
     "name": "stdout",
     "output_type": "stream",
     "text": [
      "The youngest child is Argus\n"
     ]
    }
   ],
   "source": [
    "# Example\n",
    "# If the number of arguments is unknown, add a * before the parameter name:\n",
    "\n",
    "def my_function_sample(*kids):\n",
    "    print(\"The youngest child is \" + str(kids[0]))\n",
    "\n",
    "my_function_sample(\"Argus\", \"Athena\", \"Tres\", \"Eljane\")"
   ]
  },
  {
   "cell_type": "markdown",
   "metadata": {},
   "source": [
    "### Arbitrary Keyword Arguments (**kwargs)\n",
    "- If you do not know how many keyword arguments that will be passed into your function, add two asterisk: `**` before the parameter name in the function definition.\n",
    "\n",
    "This way the function will receive a `dictionary` of arguments, and can access the items accordingly:"
   ]
  },
  {
   "cell_type": "code",
   "execution_count": 11,
   "metadata": {},
   "outputs": [
    {
     "name": "stdout",
     "output_type": "stream",
     "text": [
      "The youngest child is Argus\n"
     ]
    }
   ],
   "source": [
    "# Example:\n",
    "# If the number of keyword arguments is unknown, add a double ** before the parameter name:\n",
    "\n",
    "def mySampleFunction_with_KWARGS(**child):\n",
    "    print(\"The youngest child is \" + str(child['child1']))\n",
    "\n",
    "\n",
    "# kwargs\n",
    "mySampleFunction_with_KWARGS(child1 = \"Argus\", child2 = \"Athena\", child3 = \"Tres\")"
   ]
  },
  {
   "cell_type": "markdown",
   "metadata": {},
   "source": [
    "### Optional parameter / Default parameter value\n",
    "- The following example shows how to use a default parameter value. If we call the function without argument, it uses the default value:"
   ]
  },
  {
   "cell_type": "code",
   "execution_count": 13,
   "metadata": {},
   "outputs": [
    {
     "name": "stdout",
     "output_type": "stream",
     "text": [
      "I am from Korea\n",
      "I am from America\n",
      "I am from Philippines\n",
      "I am from Canada\n"
     ]
    }
   ],
   "source": [
    "def my_function_with_optional_parameter(country = \"Philippines\"):\n",
    "    print(\"I am from \" + country)\n",
    "\n",
    "\n",
    "my_function_with_optional_parameter(\"Korea\")\n",
    "my_function_with_optional_parameter(\"America\")\n",
    "my_function_with_optional_parameter()\n",
    "my_function_with_optional_parameter(\"Canada\")"
   ]
  },
  {
   "cell_type": "markdown",
   "metadata": {},
   "source": [
    "### Passing a List as an argument\n",
    "- You can send any data types of argument to a function (string, number, list, dictionary etc.), and it will be treated as the same data type inside the function.\n",
    "\n",
    "E.g. if you send a List as an argument, it will still be a List when it reaches the function:"
   ]
  },
  {
   "cell_type": "code",
   "execution_count": 14,
   "metadata": {},
   "outputs": [
    {
     "name": "stdout",
     "output_type": "stream",
     "text": [
      "apple\n",
      "banana\n",
      "cherry\n"
     ]
    }
   ],
   "source": [
    "def food(param):\n",
    "    for x in param:\n",
    "        print(x)\n",
    "\n",
    "\n",
    "fruits = [\"apple\", \"banana\", \"cherry\"]\n",
    "food(fruits)"
   ]
  },
  {
   "cell_type": "markdown",
   "metadata": {},
   "source": [
    "### Keyword-Only Arguments"
   ]
  },
  {
   "cell_type": "markdown",
   "metadata": {},
   "source": [
    "You can use the variables in formal argument list as keywords to pass value. Use of keyword arguments is optional. But, you can force the function be given arguments by keyword only. You should put an `astreisk (*)` before the keyword-only arguments list."
   ]
  },
  {
   "cell_type": "markdown",
   "metadata": {},
   "source": [
    "Let us say we have a function with three arguments, out of which we want second and third arguments to be keyword-only. For that, put `*` after the first argument.\n",
    "\n",
    "The built-in `print()` function is an example of keyword-only arguments. You can give list of expressions to be printed in the parentheses. The printed values are separated by a white space by default. You can specify any other separation character instead with `sep` argument."
   ]
  },
  {
   "cell_type": "code",
   "execution_count": 1,
   "metadata": {},
   "outputs": [
    {
     "name": "stdout",
     "output_type": "stream",
     "text": [
      "Hello-World\n"
     ]
    }
   ],
   "source": [
    "print (\"Hello\", \"World\", sep=\"-\")"
   ]
  },
  {
   "cell_type": "code",
   "execution_count": 1,
   "metadata": {},
   "outputs": [
    {
     "name": "stdout",
     "output_type": "stream",
     "text": [
      "Hello-World-!Hello\n"
     ]
    }
   ],
   "source": [
    "print(\"Hello\", \"World\", \"!\", sep=\"-\", end=\"\")\n",
    "print(\"Hello\")"
   ]
  },
  {
   "cell_type": "code",
   "execution_count": 2,
   "metadata": {},
   "outputs": [
    {
     "name": "stdout",
     "output_type": "stream",
     "text": [
      "Hello-WorldHello-World"
     ]
    }
   ],
   "source": [
    "print(\"Hello\", \"World\", sep=\"-\", end=\"\")\n",
    "print(\"Hello\", \"World\", sep=\"-\", end=\"\")"
   ]
  },
  {
   "cell_type": "markdown",
   "metadata": {},
   "source": [
    "The `sep` argument is keyword-only. Try using it as non-keyword argument."
   ]
  },
  {
   "cell_type": "code",
   "execution_count": 2,
   "metadata": {},
   "outputs": [
    {
     "name": "stdout",
     "output_type": "stream",
     "text": [
      "Hello World -\n"
     ]
    }
   ],
   "source": [
    "print (\"Hello\", \"World\", \"-\")"
   ]
  },
  {
   "cell_type": "markdown",
   "metadata": {},
   "source": [
    "Example:\n",
    "\n",
    "In the following user defined function `intr()` with two arguments, `amt` and `rate`. To make the `rate` argument keyword-only, put \"`*`\" before it."
   ]
  },
  {
   "cell_type": "code",
   "execution_count": 3,
   "metadata": {},
   "outputs": [],
   "source": [
    "def intr(amt,*, rate):\n",
    "   val = amt*rate/100\n",
    "   return val"
   ]
  },
  {
   "cell_type": "markdown",
   "metadata": {},
   "source": [
    "To call this function, the value for rate must be passed by keyword."
   ]
  },
  {
   "cell_type": "code",
   "execution_count": 4,
   "metadata": {},
   "outputs": [
    {
     "name": "stdout",
     "output_type": "stream",
     "text": [
      "100.0\n"
     ]
    }
   ],
   "source": [
    "interest = intr(1000, rate=10)\n",
    "print(interest)"
   ]
  },
  {
   "cell_type": "markdown",
   "metadata": {},
   "source": [
    "However, if you try to use the default positional way of calling the function, you get an error."
   ]
  },
  {
   "cell_type": "code",
   "execution_count": 5,
   "metadata": {},
   "outputs": [
    {
     "ename": "TypeError",
     "evalue": "intr() takes 1 positional argument but 2 were given",
     "output_type": "error",
     "traceback": [
      "\u001b[1;31m---------------------------------------------------------------------------\u001b[0m",
      "\u001b[1;31mTypeError\u001b[0m                                 Traceback (most recent call last)",
      "\u001b[1;32md:\\Academ\\My Own Books\\PYTHON POGRAMMING\\Python\\Modules\\Notebooks\\Python-Tutorial\\Chapter 2 - Fundamental of Programming\\Lesson 4 - Function and Module.ipynb Cell 34\u001b[0m line \u001b[0;36m1\n\u001b[1;32m----> <a href='vscode-notebook-cell:/d%3A/Academ/My%20Own%20Books/PYTHON%20POGRAMMING/Python/Modules/Notebooks/Python-Tutorial/Chapter%202%20-%20Fundamental%20of%20Programming/Lesson%204%20-%20Function%20and%20Module.ipynb#Y131sZmlsZQ%3D%3D?line=0'>1</a>\u001b[0m interest \u001b[39m=\u001b[39m intr(\u001b[39m1000\u001b[39;49m, \u001b[39m10\u001b[39;49m)\n\u001b[0;32m      <a href='vscode-notebook-cell:/d%3A/Academ/My%20Own%20Books/PYTHON%20POGRAMMING/Python/Modules/Notebooks/Python-Tutorial/Chapter%202%20-%20Fundamental%20of%20Programming/Lesson%204%20-%20Function%20and%20Module.ipynb#Y131sZmlsZQ%3D%3D?line=1'>2</a>\u001b[0m \u001b[39mprint\u001b[39m(interest)\n",
      "\u001b[1;31mTypeError\u001b[0m: intr() takes 1 positional argument but 2 were given"
     ]
    }
   ],
   "source": [
    "interest = intr(1000, 10)\n",
    "print(interest)"
   ]
  },
  {
   "cell_type": "markdown",
   "metadata": {},
   "source": [
    "### Positional-Only Arguments"
   ]
  },
  {
   "cell_type": "markdown",
   "metadata": {},
   "source": [
    "It is possible to define a function in which one or more arguments can not accept their value with keywords. Such arguments may be called positional-only arguments."
   ]
  },
  {
   "cell_type": "markdown",
   "metadata": {},
   "source": [
    "To make an argument positional-only, use the \"/\" symbol. All the arguments before this symbol will be treated as position-only."
   ]
  },
  {
   "cell_type": "markdown",
   "metadata": {},
   "source": [
    "Example\n",
    "- We make both the arguments of `intr()` function as positional-only by putting `\"/\"` at the end."
   ]
  },
  {
   "cell_type": "code",
   "execution_count": 7,
   "metadata": {},
   "outputs": [],
   "source": [
    "def intr(amt, rate, /):\n",
    "   val = amt*rate/100\n",
    "   return val"
   ]
  },
  {
   "cell_type": "markdown",
   "metadata": {},
   "source": [
    "If we try to use the arguments as keywords, Python raises following error message −"
   ]
  },
  {
   "cell_type": "code",
   "execution_count": 8,
   "metadata": {},
   "outputs": [
    {
     "ename": "TypeError",
     "evalue": "intr() got some positional-only arguments passed as keyword arguments: 'amt, rate'",
     "output_type": "error",
     "traceback": [
      "\u001b[1;31m---------------------------------------------------------------------------\u001b[0m",
      "\u001b[1;31mTypeError\u001b[0m                                 Traceback (most recent call last)",
      "\u001b[1;32md:\\Academ\\My Own Books\\PYTHON POGRAMMING\\Python\\Modules\\Notebooks\\Python-Tutorial\\Chapter 2 - Fundamental of Programming\\Lesson 4 - Function and Module.ipynb Cell 41\u001b[0m line \u001b[0;36m1\n\u001b[1;32m----> <a href='vscode-notebook-cell:/d%3A/Academ/My%20Own%20Books/PYTHON%20POGRAMMING/Python/Modules/Notebooks/Python-Tutorial/Chapter%202%20-%20Fundamental%20of%20Programming/Lesson%204%20-%20Function%20and%20Module.ipynb#Y141sZmlsZQ%3D%3D?line=0'>1</a>\u001b[0m interest \u001b[39m=\u001b[39m intr(amt\u001b[39m=\u001b[39;49m\u001b[39m1000\u001b[39;49m, rate\u001b[39m=\u001b[39;49m\u001b[39m10\u001b[39;49m)\n",
      "\u001b[1;31mTypeError\u001b[0m: intr() got some positional-only arguments passed as keyword arguments: 'amt, rate'"
     ]
    }
   ],
   "source": [
    "interest = intr(amt=1000, rate=10)"
   ]
  },
  {
   "cell_type": "markdown",
   "metadata": {},
   "source": [
    "A function may be defined in such a way that it has some keyword-only and some positional-only arguments."
   ]
  },
  {
   "cell_type": "code",
   "execution_count": 9,
   "metadata": {},
   "outputs": [],
   "source": [
    "def myfunction(x, /, y, *, z):\n",
    "   print (x, y, z)"
   ]
  },
  {
   "cell_type": "markdown",
   "metadata": {},
   "source": [
    "In this function, x is a required positional-only argument, y is a regular positional argument (you can use it as keyword if you want), and z is a keyword-only argument.\n",
    "\n",
    "The following function calls are valid −"
   ]
  },
  {
   "cell_type": "code",
   "execution_count": 10,
   "metadata": {},
   "outputs": [
    {
     "name": "stdout",
     "output_type": "stream",
     "text": [
      "10 20 30\n",
      "10 20 30\n"
     ]
    }
   ],
   "source": [
    "myfunction(10, y=20, z=30)\n",
    "myfunction(10, 20, z=30)"
   ]
  },
  {
   "cell_type": "markdown",
   "metadata": {},
   "source": [
    "However, these calls raise errors −"
   ]
  },
  {
   "cell_type": "code",
   "execution_count": 11,
   "metadata": {},
   "outputs": [
    {
     "ename": "TypeError",
     "evalue": "myfunction() got some positional-only arguments passed as keyword arguments: 'x'",
     "output_type": "error",
     "traceback": [
      "\u001b[1;31m---------------------------------------------------------------------------\u001b[0m",
      "\u001b[1;31mTypeError\u001b[0m                                 Traceback (most recent call last)",
      "\u001b[1;32md:\\Academ\\My Own Books\\PYTHON POGRAMMING\\Python\\Modules\\Notebooks\\Python-Tutorial\\Chapter 2 - Fundamental of Programming\\Lesson 4 - Function and Module.ipynb Cell 47\u001b[0m line \u001b[0;36m1\n\u001b[1;32m----> <a href='vscode-notebook-cell:/d%3A/Academ/My%20Own%20Books/PYTHON%20POGRAMMING/Python/Modules/Notebooks/Python-Tutorial/Chapter%202%20-%20Fundamental%20of%20Programming/Lesson%204%20-%20Function%20and%20Module.ipynb#Y150sZmlsZQ%3D%3D?line=0'>1</a>\u001b[0m myfunction(x\u001b[39m=\u001b[39;49m\u001b[39m10\u001b[39;49m, y\u001b[39m=\u001b[39;49m\u001b[39m20\u001b[39;49m, z\u001b[39m=\u001b[39;49m\u001b[39m30\u001b[39;49m)\n",
      "\u001b[1;31mTypeError\u001b[0m: myfunction() got some positional-only arguments passed as keyword arguments: 'x'"
     ]
    }
   ],
   "source": [
    "myfunction(x=10, y=20, z=30)"
   ]
  },
  {
   "cell_type": "code",
   "execution_count": 12,
   "metadata": {},
   "outputs": [
    {
     "ename": "TypeError",
     "evalue": "myfunction() takes 2 positional arguments but 3 were given",
     "output_type": "error",
     "traceback": [
      "\u001b[1;31m---------------------------------------------------------------------------\u001b[0m",
      "\u001b[1;31mTypeError\u001b[0m                                 Traceback (most recent call last)",
      "\u001b[1;32md:\\Academ\\My Own Books\\PYTHON POGRAMMING\\Python\\Modules\\Notebooks\\Python-Tutorial\\Chapter 2 - Fundamental of Programming\\Lesson 4 - Function and Module.ipynb Cell 48\u001b[0m line \u001b[0;36m1\n\u001b[1;32m----> <a href='vscode-notebook-cell:/d%3A/Academ/My%20Own%20Books/PYTHON%20POGRAMMING/Python/Modules/Notebooks/Python-Tutorial/Chapter%202%20-%20Fundamental%20of%20Programming/Lesson%204%20-%20Function%20and%20Module.ipynb#Y151sZmlsZQ%3D%3D?line=0'>1</a>\u001b[0m myfunction(\u001b[39m10\u001b[39;49m, \u001b[39m20\u001b[39;49m, \u001b[39m30\u001b[39;49m)\n",
      "\u001b[1;31mTypeError\u001b[0m: myfunction() takes 2 positional arguments but 3 were given"
     ]
    }
   ],
   "source": [
    "myfunction(10, 20, 30)"
   ]
  },
  {
   "cell_type": "markdown",
   "metadata": {},
   "source": [
    "### Function Annotations\n",
    "\n",
    "https://www.tutorialspoint.com/python/python_function_annotations.htm"
   ]
  },
  {
   "cell_type": "markdown",
   "metadata": {},
   "source": [
    "---"
   ]
  },
  {
   "cell_type": "markdown",
   "metadata": {},
   "source": [
    "## Function `return` value\n",
    "- To let a function return a value, use the `return` statement:"
   ]
  },
  {
   "cell_type": "code",
   "execution_count": 19,
   "metadata": {},
   "outputs": [
    {
     "name": "stdout",
     "output_type": "stream",
     "text": [
      "15\n",
      "81\n",
      "24\n"
     ]
    }
   ],
   "source": [
    "def multiply(x, y):\n",
    "    return x * y\n",
    "\n",
    "result = multiply(5, 3)\n",
    "print(result)\n",
    "\n",
    "print(multiply(9, 9))\n",
    "print(multiply(4, 6))"
   ]
  },
  {
   "cell_type": "markdown",
   "metadata": {},
   "source": [
    "---"
   ]
  },
  {
   "cell_type": "markdown",
   "metadata": {},
   "source": [
    "## String Functions\n",
    "- Python has a set of built-in methods that you can use on strings."
   ]
  },
  {
   "cell_type": "code",
   "execution_count": 20,
   "metadata": {},
   "outputs": [
    {
     "name": "stdout",
     "output_type": "stream",
     "text": [
      "Hello world.\n"
     ]
    }
   ],
   "source": [
    "# Example: String capitalize() Method\n",
    "# Upper case the first letter in this sentence:\n",
    "\n",
    "txt = \"hello world.\"\n",
    "print(txt.capitalize())"
   ]
  },
  {
   "cell_type": "markdown",
   "metadata": {},
   "source": [
    "For other functions: https://www.w3schools.com/python/python_strings_methods.asp"
   ]
  },
  {
   "cell_type": "markdown",
   "metadata": {},
   "source": [
    "## Other built-in functions\n",
    "Python has a set of built-in functions."
   ]
  },
  {
   "cell_type": "code",
   "execution_count": 18,
   "metadata": {},
   "outputs": [
    {
     "data": {
      "text/plain": [
       "7.25"
      ]
     },
     "execution_count": 18,
     "metadata": {},
     "output_type": "execute_result"
    }
   ],
   "source": [
    "# Return the absolute value of a number\n",
    "num = -7.25\n",
    "abs(num)"
   ]
  },
  {
   "cell_type": "markdown",
   "metadata": {},
   "source": [
    "For other built-in function in python: https://www.w3schools.com/python/python_ref_functions.asp & \n",
    "https://www.tutorialspoint.com/python/python_built_in_functions.htm"
   ]
  },
  {
   "cell_type": "markdown",
   "metadata": {},
   "source": [
    "---"
   ]
  },
  {
   "cell_type": "markdown",
   "metadata": {},
   "source": [
    "# Modules\n",
    "- As your program gets longer, you may want to split it into several files for easier maintenance.\n",
    "\n",
    "- `Module` is a file containing a set of `functions` you want to include in your application. Python files contains different related `functions`.\n",
    "\n",
    "- The module can contain functions, as already described, but also `variables` of all types (arrays, dictionaries, objects etc)"
   ]
  },
  {
   "cell_type": "markdown",
   "metadata": {},
   "source": [
    "## Create a Module\n",
    "- To create a module just save the code you want in a file with the file extension `.py`:\n"
   ]
  },
  {
   "cell_type": "code",
   "execution_count": null,
   "metadata": {},
   "outputs": [],
   "source": [
    "# Save this code in a file named `mymodule1.py`\n",
    "\n",
    "def greeting(name):\n",
    "    print(\"Hello \" + name)"
   ]
  },
  {
   "cell_type": "code",
   "execution_count": null,
   "metadata": {},
   "outputs": [],
   "source": [
    "# Save this code in a file named `mymodule2.py`\n",
    "\n",
    "sample_variable = { \n",
    "        \"keyname1\" : \"This is a value\",\n",
    "        \"keyname2\" : \"This is another value\"\n",
    "    }"
   ]
  },
  {
   "cell_type": "markdown",
   "metadata": {},
   "source": [
    "## Use a Module\n",
    "- Now we can use the module we just created, by using the `import` statement:\n",
    "\n",
    "`Note: When using a function from a module, use the syntax: module_name.function_name or module_name.variable_name`"
   ]
  },
  {
   "cell_type": "code",
   "execution_count": 21,
   "metadata": {},
   "outputs": [
    {
     "name": "stdout",
     "output_type": "stream",
     "text": [
      "This is a value\n",
      "Hello RED\n"
     ]
    }
   ],
   "source": [
    "# import mymodule1\n",
    "# import modules.mymodule1 # import folder.module\n",
    "# import mymodule2\n",
    "# import modules.mymodule2 # import folder.module\n",
    "# or \n",
    "# import mymodule1, mymodule2\n",
    "import modules.mymodule1, modules.mymodule2\n",
    "\n",
    "x = modules.mymodule2.sample_variable[\"keyname1\"]\n",
    "print(x)\n",
    "\n",
    "modules.mymodule1.greeting(\"RED\")\n"
   ]
  },
  {
   "cell_type": "markdown",
   "metadata": {},
   "source": [
    "## Re-naming a Module\n",
    "- You can create an alias when you `import` a module, by using the `as` keyword:\n"
   ]
  },
  {
   "cell_type": "code",
   "execution_count": 22,
   "metadata": {},
   "outputs": [
    {
     "name": "stdout",
     "output_type": "stream",
     "text": [
      "Hello RED\n",
      "This is another value\n"
     ]
    }
   ],
   "source": [
    "import modules.mymodule1 as m1\n",
    "import modules.mymodule2 as m2\n",
    "\n",
    "m1.greeting(\"RED\")\n",
    "\n",
    "print(m2.sample_variable['keyname2'])"
   ]
  },
  {
   "cell_type": "markdown",
   "metadata": {},
   "source": [
    "## Import From Module\n",
    "- You can choose to import only parts from a module, by using the `from` keyword."
   ]
  },
  {
   "cell_type": "code",
   "execution_count": 23,
   "metadata": {},
   "outputs": [
    {
     "name": "stdout",
     "output_type": "stream",
     "text": [
      "Hello RED\n",
      "None\n"
     ]
    }
   ],
   "source": [
    "# Example The module named mymodule1 has a function:\n",
    "# You can import a function from the module:\n",
    "\n",
    "from modules.mymodule1 import greeting\n",
    "\n",
    "print(greeting(\"RED\"))"
   ]
  },
  {
   "cell_type": "code",
   "execution_count": 24,
   "metadata": {},
   "outputs": [
    {
     "name": "stdout",
     "output_type": "stream",
     "text": [
      "{'keyname1': 'This is a value', 'keyname2': 'This is another value'}\n"
     ]
    }
   ],
   "source": [
    "# You can also import a variable from the module:\n",
    "\n",
    "from modules.mymodule2 import sample_variable\n",
    "\n",
    "print(sample_variable)"
   ]
  },
  {
   "cell_type": "markdown",
   "metadata": {},
   "source": [
    "`NOTE: if a function or variable is imported from a module, you can directly call it in your code. Example: greeting(\"RED\") not mymodule.greeting(\"RED\")`"
   ]
  },
  {
   "cell_type": "code",
   "execution_count": null,
   "metadata": {},
   "outputs": [],
   "source": [
    "\"\"\"\n",
    "import module1, module2, module3                        # import many module in 1 line`\n",
    "import folderName.module as m                           # import a module from folder`\n",
    "from folderName import module1, module2, module3        # import specific module inside a folder`\n",
    "from folderName import *                                # import all module inside a folder`\n",
    "\"\"\""
   ]
  },
  {
   "cell_type": "markdown",
   "metadata": {},
   "source": [
    "## Built-in Modules\n",
    "\n",
    "- There are several built-in modules in Python, which you can import whenever you like.\n",
    "\n",
    "Example\n",
    " - Import and use the `platform` module:\n"
   ]
  },
  {
   "cell_type": "code",
   "execution_count": 26,
   "metadata": {},
   "outputs": [
    {
     "name": "stdout",
     "output_type": "stream",
     "text": [
      "Windows\n"
     ]
    }
   ],
   "source": [
    "import platform\n",
    "\n",
    "print(platform.system())"
   ]
  },
  {
   "cell_type": "markdown",
   "metadata": {},
   "source": [
    "- Import and use `datetime` module:"
   ]
  },
  {
   "cell_type": "code",
   "execution_count": 27,
   "metadata": {},
   "outputs": [
    {
     "name": "stdout",
     "output_type": "stream",
     "text": [
      "2022-11-11 15:25:13.275064\n"
     ]
    }
   ],
   "source": [
    "# Import the datetime module and display the current date\n",
    "\n",
    "import datetime\n",
    "\n",
    "print(datetime.datetime.now())"
   ]
  },
  {
   "cell_type": "markdown",
   "metadata": {},
   "source": [
    "Math Module"
   ]
  },
  {
   "cell_type": "code",
   "execution_count": 13,
   "metadata": {},
   "outputs": [
    {
     "name": "stdout",
     "output_type": "stream",
     "text": [
      "Square root of 100: 10.0\n"
     ]
    }
   ],
   "source": [
    "import math\n",
    "print (\"Square root of 100:\", math.sqrt(100))"
   ]
  },
  {
   "cell_type": "markdown",
   "metadata": {},
   "source": [
    "https://www.tutorialspoint.com/python/python_modules.htm"
   ]
  },
  {
   "cell_type": "markdown",
   "metadata": {},
   "source": [
    "---"
   ]
  },
  {
   "cell_type": "markdown",
   "metadata": {},
   "source": [
    "# Packages\n",
    "-\tCollection of `modules` (directory with different `modules` or python files)\n",
    "\n",
    "When developing a large application, you may end up with many different modules that are difficult to manage. In such a case, you’ll benefit from grouping and organizing your modules. That’s when packages come into play.\n",
    "\n",
    "Python packages are basically a `directory` of a `collection of modules`. Packages allow the hierarchical structure of the module namespace. Just like we organize our files on a hard drive into folders and sub-folders, we can organize our modules into packages and subpackages.\n",
    "\n",
    "To be considered a package (or subpackage), a directory must contain a file named `__init__.py`. This file usually includes the initialization code for the corresponding package.\n",
    "\n",
    "#### For example, we can have the following package `my_model` with modules related to our data science project:\n",
    "\n",
    "| |   my_model  | |\n",
    "| :- | :- | :- |\n",
    "| | `__init__.py` | |\n",
    "| training | submission | metrics |\n",
    "| `__init__.py` | `__init__.py` | `__init__.py` |\n",
    "| `dataset.py` | `submit.py` | `precision.py` |\n",
    "| `training_loop.py` | `run_context.py` | `recall.py` |\n",
    "| `loss.py` | | `fid_score.py` |"
   ]
  },
  {
   "cell_type": "markdown",
   "metadata": {},
   "source": [
    "We can import specific modules from this package using the dot notation. For example, to import the dataset module from the above package, we can use one of the following code snippets:"
   ]
  },
  {
   "cell_type": "code",
   "execution_count": null,
   "metadata": {},
   "outputs": [],
   "source": [
    "# Example:\n",
    "# import my_model.training.dataset"
   ]
  },
  {
   "cell_type": "markdown",
   "metadata": {},
   "source": [
    "There are a lot of built-in and open-source Python packages that you are probably already using. \n",
    "\n",
    "For example:\n",
    "1. `NumPy` is the fundamental Python package for scientific computing.\n",
    "2. `pandas` is a Python package for fast and efficient processing of tabular data, time series, matrix data, etc.\n",
    "3. `pytest` provides a variety of modules to test new code, including small unit tests or complex functional tests.\n"
   ]
  },
  {
   "cell_type": "markdown",
   "metadata": {},
   "source": [
    "# Library\n",
    "\n",
    "A library is an umbrella term referring to a reusable chunk of code. \n",
    "\n",
    "Usually, a Python library contains a `collection of related modules and packages`. Actually, this term is often used interchangeably with “Python package” because packages can also contain modules and other packages (subpackages). However, it is often assumed that while a `package is a collection of modules`, a `library is a collection of packages`."
   ]
  },
  {
   "cell_type": "markdown",
   "metadata": {},
   "source": [
    "There are thousands of useful libraries available today. I’ll give just a few examples:\n",
    "\n",
    "- `Matplotlib` library is a standard library for generating data visualizations in Python. It supports building basic two-dimensional graphs as well as more complex animated and interactive visualizations.\n",
    "- `PyTorch` is an open-source deep-learning library built by Facebook’s AI Research lab to implement advanced neural networks and cutting-edge research ideas in industry and academia.\n",
    "- `pygame` provides developers with tons of convenient features and tools to make game development a more intuitive task.\n",
    "- `Beautiful Soup` is a very popular Python library for getting data from the web. The modules and packages inside this library help extract useful information from HTML and XML files.\n",
    "- `Requests` is a part of a large collection of libraries designed to make Python HTTP requests simpler. The library offers an intuitive JSON method that helps you avoid manually adding query strings to your URLs.\n",
    "- `missingno` is very handy for handling missing data points. It provides informative visualizations about the missing values in a dataframe, helping data scientists to spot areas with missing data. It is just one of the many great Python libraries for data cleaning.\n"
   ]
  },
  {
   "cell_type": "markdown",
   "metadata": {},
   "source": [
    "By the way, the `NumPy` and `pandas` packages that were mentioned before are also often referred to as libraries. That is because these are complex packages that have wide applications (i.e. scientific computing and data manipulation, respectively). They also include multiple subpackages and so basically satisfy the definition of a Python library."
   ]
  },
  {
   "cell_type": "markdown",
   "metadata": {},
   "source": [
    "# Frameworks"
   ]
  },
  {
   "cell_type": "markdown",
   "metadata": {},
   "source": [
    "Similar to `libraries`, Python `frameworks` are a `collection of modules and packages` that help programmers to fast track the development process. However, frameworks are usually more complex than libraries.\n",
    "\n",
    "Also, while libraries contain packages that perform specific operations, frameworks contain the basic flow and architecture of the application."
   ]
  },
  {
   "cell_type": "markdown",
   "metadata": {},
   "source": [
    "Several Popular Frameworks:\n",
    "\n",
    "- `Django` is a Python framework for building web applications with less coding. With all the necessary features included by default, developers can focus on their applications rather than dealing with routine processes.\n",
    "- `Flask` is a web development framework that is known for its lightweight and modular design. It has many out-of-the-box features and is easily adaptable to specific requirements.\n",
    "- `Bottle` is another lightweight framework for web development that was originally meant for building APIs. Its unique features are that it has no dependencies other than the Python Standard Library and it implements everything in a single source file.\n"
   ]
  },
  {
   "cell_type": "markdown",
   "metadata": {},
   "source": [
    "# Package Manager\n",
    "\n",
    "What makes Python a true power tool is the ecosystem of `free` and `open source` libraries like Tensorflow, Netmiko, and Flask. These can be `installed` with a `single command` using a `package manager`."
   ]
  },
  {
   "cell_type": "markdown",
   "metadata": {},
   "source": [
    "## `PyPI`: The Package Index\n",
    "\n",
    "Similar to NuGet.org & Npmjs.org, Python also has its own official third-party software repository. The Python Package Index (PyPI) is a repository of software that hosts an extensive collection of Python packages, development frameworks, tools, and libraries.\n",
    "\n",
    "PyPI packages allow developers to share and reuse code rather than having to reinvent the wheel. As PyPI grew, the need for a package manager became so apparent that Python eventually created its own standard package manager: pip.\n",
    "\n",
    "## `Pip`: The Standard Package Manager\n",
    "\n",
    "Pip is built-in to Python, and can install packages from many different sources. But PyPI.org is the primary and default package source used.\n",
    "\n",
    "By default, pip installs packages onto a project’s global Python environment resulting in packages being accessible by all projects. This can be an issue due to packages being dependent on specific versions of other packages. Since all packages are in a global environment, its easy to run into a dependency conflict that may prevent your application from building.\n",
    " \n",
    "Thankfully, pip automates package management by first resolving all dependencies then proceeding to install the request packages. However, the standard method for preventing dependency conflicts is to create separate Python environments for each project.\n"
   ]
  }
 ],
 "metadata": {
  "kernelspec": {
   "display_name": "Python 3 (ipykernel)",
   "language": "python",
   "name": "python3"
  },
  "language_info": {
   "codemirror_mode": {
    "name": "ipython",
    "version": 3
   },
   "file_extension": ".py",
   "mimetype": "text/x-python",
   "name": "python",
   "nbconvert_exporter": "python",
   "pygments_lexer": "ipython3",
   "version": "3.9.7"
  },
  "vscode": {
   "interpreter": {
    "hash": "3103f0df81466cced26978c1f00aec304c6c4f54b027625b12ba1120a1fef288"
   }
  }
 },
 "nbformat": 4,
 "nbformat_minor": 2
}
