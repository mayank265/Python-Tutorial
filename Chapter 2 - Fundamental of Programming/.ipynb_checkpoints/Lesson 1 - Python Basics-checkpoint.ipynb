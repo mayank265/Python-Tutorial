{
 "cells": [
  {
   "cell_type": "markdown",
   "metadata": {},
   "source": [
    "# Python Basics\n"
   ]
  },
  {
   "cell_type": "markdown",
   "metadata": {},
   "source": [
    "## Syntax Review, Comparisons, and Practices\n",
    "\n",
    "### Python Syntax compared to other programming languages\n",
    "- Python was designed for readability and has some similarities to the English language with influence from mathematics.\n",
    "- Python uses new lines to complete a command, as opposed to other programming languages which often use semicolons or parentheses.\n",
    "- Python relies on indentation, using whitespace, to define scope, such as the scope of loops, functions, and classes. Other programming languages often use curly brackets for this purpose."
   ]
  },
  {
   "cell_type": "markdown",
   "metadata": {},
   "source": [
    "## Indentation\n",
    "- Indentation refers to the spaces at the beginning of a code line. Where in other programming languages the indentation in code is for readability only, the indentation in Python is very important. Python uses indentation to indicate a block of code."
   ]
  },
  {
   "cell_type": "code",
   "execution_count": 9,
   "metadata": {},
   "outputs": [
    {
     "name": "stdout",
     "output_type": "stream",
     "text": [
      "You can vote\n"
     ]
    }
   ],
   "source": [
    "if 21 > 17:\n",
    "    print(\"You can vote\")"
   ]
  },
  {
   "cell_type": "markdown",
   "metadata": {},
   "source": [
    "Python will give you a syntax error if you skip the indentation:"
   ]
  },
  {
   "cell_type": "code",
   "execution_count": 10,
   "metadata": {},
   "outputs": [
    {
     "ename": "IndentationError",
     "evalue": "expected an indented block after 'if' statement on line 1 (1685299579.py, line 2)",
     "output_type": "error",
     "traceback": [
      "\u001b[1;36m  Cell \u001b[1;32mIn [10], line 2\u001b[1;36m\u001b[0m\n\u001b[1;33m    print(\"You can vote\")\u001b[0m\n\u001b[1;37m    ^\u001b[0m\n\u001b[1;31mIndentationError\u001b[0m\u001b[1;31m:\u001b[0m expected an indented block after 'if' statement on line 1\n"
     ]
    }
   ],
   "source": [
    "if 21 > 17:\n",
    "print(\"You can vote\")"
   ]
  },
  {
   "cell_type": "markdown",
   "metadata": {},
   "source": [
    "The number of spaces is up to you as a programmer, the most common use is four, but it has to be at least one."
   ]
  },
  {
   "cell_type": "code",
   "execution_count": 11,
   "metadata": {},
   "outputs": [
    {
     "name": "stdout",
     "output_type": "stream",
     "text": [
      "Under age\n"
     ]
    }
   ],
   "source": [
    "if 17 > 17:\n",
    "    print(\"You can vote\")\n",
    "else:\n",
    "        print(\"Under age\")"
   ]
  },
  {
   "cell_type": "markdown",
   "metadata": {},
   "source": [
    "You must use the same number of spaces in the same block of code, otherwise Python will give you an error:"
   ]
  },
  {
   "cell_type": "code",
   "execution_count": 12,
   "metadata": {},
   "outputs": [
    {
     "ename": "IndentationError",
     "evalue": "unexpected indent (21879021.py, line 3)",
     "output_type": "error",
     "traceback": [
      "\u001b[1;36m  Cell \u001b[1;32mIn [12], line 3\u001b[1;36m\u001b[0m\n\u001b[1;33m    print(\"Horay!\")\u001b[0m\n\u001b[1;37m    ^\u001b[0m\n\u001b[1;31mIndentationError\u001b[0m\u001b[1;31m:\u001b[0m unexpected indent\n"
     ]
    }
   ],
   "source": [
    "if 17 > 17:\n",
    "    print(\"You can vote\")\n",
    "        print(\"Horay!\")\n",
    "else:\n",
    "        print(\"Under age\")"
   ]
  },
  {
   "cell_type": "markdown",
   "metadata": {},
   "source": [
    "## Comments\n",
    "- Python has commenting capability for the purpose of in-code documentation. Comments can be used to explain Python code. Comments can be used to make the code more readable. Comments can be used to prevent execution when testing code. A comment does not have to be text that explains the code, it can also be used to prevent Python from executing code. Comments start with a #, and Python will render the rest of the line as a comment, and Python will ignore them:"
   ]
  },
  {
   "cell_type": "code",
   "execution_count": 13,
   "metadata": {},
   "outputs": [],
   "source": [
    "# This is example of comment\n"
   ]
  },
  {
   "cell_type": "markdown",
   "metadata": {},
   "source": [
    "Comments can be placed at the end of a line, and Python will ignore the rest of the line:"
   ]
  },
  {
   "cell_type": "code",
   "execution_count": 14,
   "metadata": {},
   "outputs": [
    {
     "name": "stdout",
     "output_type": "stream",
     "text": [
      "Hello world!\n"
     ]
    }
   ],
   "source": [
    "print(\"Hello world!\") # This is example of comment at the end of python code"
   ]
  },
  {
   "cell_type": "markdown",
   "metadata": {},
   "source": [
    "### Multi Line Comments\n",
    "Python does not really have a syntax for multi-line comments. To add a multiline comment, you could insert a # for each line:\n"
   ]
  },
  {
   "cell_type": "code",
   "execution_count": 15,
   "metadata": {},
   "outputs": [],
   "source": [
    "# This is example of comment\n",
    "# with multiple\n",
    "# line of text"
   ]
  },
  {
   "cell_type": "markdown",
   "metadata": {},
   "source": [
    "Multiline String\n",
    "- Since Python will ignore string literals that are not assigned to a variable, you can add a multiline string (triple quotes) in your code, and place your comment inside it:"
   ]
  },
  {
   "cell_type": "code",
   "execution_count": 17,
   "metadata": {},
   "outputs": [
    {
     "name": "stdout",
     "output_type": "stream",
     "text": [
      "Hello world!\n"
     ]
    }
   ],
   "source": [
    "\"\"\"\n",
    "This is example of comment\n",
    "with multiple\n",
    "line of text\n",
    "\"\"\"\n",
    "\n",
    "print(\"Hello world!\")"
   ]
  },
  {
   "cell_type": "markdown",
   "metadata": {},
   "source": [
    "## Variable\n",
    "- Variables are containers for storing data values.\n",
    "- A variable is created the moment you first assign a value to it.\n",
    "- Python has no command for declaring a variable. We don't need to be declared it with any type (datatype). We can even change type after they have been set.\n"
   ]
  },
  {
   "cell_type": "code",
   "execution_count": 18,
   "metadata": {},
   "outputs": [],
   "source": [
    "a = 18\n",
    "b = \"hello world\"\n",
    "c = True\n",
    "d = [\"dog\", \"cat\"]\n",
    "e = (\"dog\", \"cat\")\n",
    "f = {\"dog\", \"cat\"}\n",
    "g = {\"type\":\"dog\", \"breed\":\"aspin\"}\n",
    "h = 5.5\n",
    "i = a\n",
    "j = h + i"
   ]
  },
  {
   "cell_type": "markdown",
   "metadata": {},
   "source": [
    "## Naming and Using Variables\n",
    "When you’re using variables in Python, you need to adhere to a few rules and guidelines. Breaking some of these rules will cause errors; other guidelines just help you write code that’s easier to read and understand. Be sure to keep the following variable rules in mind:  \n",
    "- Variable names can contain only `letters`, `numbers`, and `underscores`. They can `start with a letter or an underscore`, but `not with a number`. For instance, you can call a variable `message_1` but not `1_message`.\n",
    "- `Spaces` are not allowed in variable names, but `underscores` can be used to separate words in variable names. For example, `greeting_message` works, but `greeting message` will cause errors.\n",
    "- Avoid using Python `keywords` and `function names` as variable names; that is, do not use words that Python has `reserved` for a particular programmatic purpose, such as the word `print`. You will learn Python Keywords and Built-in Functions on other lessons.\n",
    "- Variable names should be short but descriptive. For example, `name` is better than `n`, `student_name` is better than `s_n`, and `name_length` is better than `length_of_persons_name`.\n",
    "- Be careful when using the lowercase letter `l` and the uppercase letter `O` because they could be confused with the numbers `1` and `0`.\n"
   ]
  },
  {
   "cell_type": "code",
   "execution_count": 19,
   "metadata": {},
   "outputs": [],
   "source": [
    "age = 18                                                # int\n",
    "greet = \"hello world\"                                   # string\n",
    "status = True                                           # boolean\n",
    "animal_list = [\"dog\", \"cat\"]                            # list\n",
    "tuple_of_animals = (\"dog\", \"cat\")                       # tuple\n",
    "sets_of_animals = {\"dog\", \"cat\"}                        # set\n",
    "animal_dictionary = {\"type\":\"dog\", \"breed\":\"aspin\"}     # dictionary\n",
    "height_1 = 5.5                                          # float\n",
    "height_2 = 6                                            # int\n",
    "age_2 = age                                             # int\n",
    "j = height_1 + height_2                                 # float"
   ]
  },
  {
   "cell_type": "markdown",
   "metadata": {},
   "source": [
    "Variable names are case-sensitive."
   ]
  },
  {
   "cell_type": "code",
   "execution_count": 22,
   "metadata": {},
   "outputs": [
    {
     "ename": "NameError",
     "evalue": "name 'Mess' is not defined",
     "output_type": "error",
     "traceback": [
      "\u001b[1;31m---------------------------------------------------------------------------\u001b[0m",
      "\u001b[1;31mNameError\u001b[0m                                 Traceback (most recent call last)",
      "Cell \u001b[1;32mIn [22], line 2\u001b[0m\n\u001b[0;32m      1\u001b[0m mess \u001b[39m=\u001b[39m \u001b[39m\"\u001b[39m\u001b[39mHello\u001b[39m\u001b[39m\"\u001b[39m\n\u001b[1;32m----> 2\u001b[0m \u001b[39mprint\u001b[39m(Mess)\n",
      "\u001b[1;31mNameError\u001b[0m: name 'Mess' is not defined"
     ]
    }
   ],
   "source": [
    "mess = \"Hello\"\n",
    "print(Mess)"
   ]
  },
  {
   "cell_type": "code",
   "execution_count": 23,
   "metadata": {},
   "outputs": [],
   "source": [
    "message = \"Hello\"\n",
    "Message = \"Hello world!\" # Message cannot replace message, this will be another variable"
   ]
  },
  {
   "cell_type": "markdown",
   "metadata": {},
   "source": [
    "You can assign a variable as value of another variable"
   ]
  },
  {
   "cell_type": "code",
   "execution_count": 24,
   "metadata": {},
   "outputs": [
    {
     "name": "stdout",
     "output_type": "stream",
     "text": [
      "Hello\n"
     ]
    }
   ],
   "source": [
    "message = \"Hello\"\n",
    "greet = message\n",
    "\n",
    "print(greet)"
   ]
  },
  {
   "cell_type": "markdown",
   "metadata": {},
   "source": [
    "## Datatypes\n",
    "- Datatype is set of data with predefined values. The Type of data stored in a variable."
   ]
  },
  {
   "cell_type": "markdown",
   "metadata": {},
   "source": [
    "### Built-in Data Types\n",
    "- In programming, data type is an important concept. Variables can store data of different types, and different types can do different things. Python has the following data types built-in by default, in these categories:"
   ]
  },
  {
   "cell_type": "markdown",
   "metadata": {},
   "source": [
    "| | |\n",
    "| :- | :- |\n",
    "| Text Type | str |\n",
    "| Numeric Types | int, float |\n",
    "| Sequence Type | list, tuple, range |\n",
    "| Mapping Type | Dictionary |\n",
    "| Set Type | set |\n",
    "| Boolean Type | bool |\n",
    "| Binary Types | bytes, bytearray, memoryview |\n",
    "None Type | NoneType |"
   ]
  },
  {
   "cell_type": "markdown",
   "metadata": {},
   "source": [
    "### Get the Type\n",
    "You can get the data type of a variable with the type() function.\n"
   ]
  },
  {
   "cell_type": "code",
   "execution_count": 25,
   "metadata": {},
   "outputs": [
    {
     "name": "stdout",
     "output_type": "stream",
     "text": [
      "<class 'int'>\n"
     ]
    }
   ],
   "source": [
    "a = 1\n",
    "\n",
    "print(type(a))"
   ]
  },
  {
   "cell_type": "markdown",
   "metadata": {},
   "source": [
    "### Setting the Data Type\n",
    "In Python, the data type is set when you assign a value to a variable: Python will automatically define what kind of data you store in a variable.\n"
   ]
  },
  {
   "cell_type": "code",
   "execution_count": 26,
   "metadata": {},
   "outputs": [],
   "source": [
    "age = 18                                                # int\n",
    "greet = \"hello world\"                                   # string\n",
    "status = True                                           # boolean\n",
    "animal_list = [\"dog\", \"cat\"]                            # list\n",
    "tuple_of_animals = (\"dog\", \"cat\")                       # tuple\n",
    "sets_of_animals = {\"dog\", \"cat\"}                        # set\n",
    "animal_dictionary = {\"type\":\"dog\", \"breed\":\"aspin\"}     # dictionary\n",
    "height_1 = 5.5                                          # float\n",
    "height_2 = 6                                            # int\n",
    "age_2 = age                                             # int\n",
    "j = height_1 + height_2                                 # float"
   ]
  },
  {
   "cell_type": "markdown",
   "metadata": {},
   "source": [
    "### String\n",
    "Series of characters interpreted as text.  \n",
    "\n",
    "String variables can be declared either by using `single` or `double` quotes:\n",
    "`'hello'` is the same as `\"hello\"`\n"
   ]
  },
  {
   "cell_type": "code",
   "execution_count": 27,
   "metadata": {},
   "outputs": [
    {
     "name": "stdout",
     "output_type": "stream",
     "text": [
      "<class 'str'>\n",
      "<class 'str'>\n"
     ]
    }
   ],
   "source": [
    "a = 'Hello'\n",
    "b = \"Hello\"\n",
    "\n",
    "print(type(a))\n",
    "print(type(b))"
   ]
  },
  {
   "cell_type": "markdown",
   "metadata": {},
   "source": [
    "### Raw String\n",
    "To represent special characters such as tabs and newlines, Python uses the backslash (`\\`) to signify the start of an escape sequence. For example:\n"
   ]
  },
  {
   "cell_type": "markdown",
   "metadata": {},
   "source": [
    "`\\t` for Tab  \n",
    "`\\n` for New Line"
   ]
  },
  {
   "cell_type": "code",
   "execution_count": 28,
   "metadata": {},
   "outputs": [
    {
     "name": "stdout",
     "output_type": "stream",
     "text": [
      "Juan \tdela \n",
      "Cruz\n"
     ]
    }
   ],
   "source": [
    "name = \"Juan \\tdela \\nCruz\"\n",
    "print(name)"
   ]
  },
  {
   "cell_type": "markdown",
   "metadata": {},
   "source": [
    "In a regular string, Python counts an escape sequence as a single character:"
   ]
  },
  {
   "cell_type": "code",
   "execution_count": 29,
   "metadata": {},
   "outputs": [
    {
     "name": "stdout",
     "output_type": "stream",
     "text": [
      "1\n"
     ]
    }
   ],
   "source": [
    "x = \"\\n\"\n",
    "print(len(x))"
   ]
  },
  {
   "cell_type": "markdown",
   "metadata": {},
   "source": [
    "Meaning, the character after a back slash (`\\`) only display or count. So, when you want to read the back slash in a string, you need to put backslash two times to read the second backslash (`\\\\`)."
   ]
  },
  {
   "cell_type": "markdown",
   "metadata": {},
   "source": [
    "Using single backslash"
   ]
  },
  {
   "cell_type": "code",
   "execution_count": 30,
   "metadata": {},
   "outputs": [
    {
     "ename": "SyntaxError",
     "evalue": "(unicode error) 'unicodeescape' codec can't decode bytes in position 2-3: truncated \\uXXXX escape (3179970035.py, line 1)",
     "output_type": "error",
     "traceback": [
      "\u001b[1;36m  Cell \u001b[1;32mIn [30], line 1\u001b[1;36m\u001b[0m\n\u001b[1;33m    path = \"c:\\users\\PC\\desktop\"\u001b[0m\n\u001b[1;37m                                ^\u001b[0m\n\u001b[1;31mSyntaxError\u001b[0m\u001b[1;31m:\u001b[0m (unicode error) 'unicodeescape' codec can't decode bytes in position 2-3: truncated \\uXXXX escape\n"
     ]
    }
   ],
   "source": [
    "path = \"c:\\users\\PC\\desktop\"\n",
    "print(path)"
   ]
  },
  {
   "cell_type": "markdown",
   "metadata": {},
   "source": [
    "Using double backslash"
   ]
  },
  {
   "cell_type": "code",
   "execution_count": 31,
   "metadata": {},
   "outputs": [
    {
     "name": "stdout",
     "output_type": "stream",
     "text": [
      "c:\\users\\PC\\desktop\n"
     ]
    }
   ],
   "source": [
    "path = \"c:\\\\users\\\\PC\\\\desktop\"\n",
    "print(path)"
   ]
  },
  {
   "cell_type": "markdown",
   "metadata": {},
   "source": [
    "Using Raw String  \n",
    "\n",
    "However, raw strings treat the backslash (`\\`) as a literal character. \n",
    "\n",
    "For example:\n"
   ]
  },
  {
   "cell_type": "code",
   "execution_count": 32,
   "metadata": {},
   "outputs": [
    {
     "name": "stdout",
     "output_type": "stream",
     "text": [
      "c:\\users\\PC\\desktop\n",
      "c:\\users\\PC\\desktop\n"
     ]
    }
   ],
   "source": [
    "path1 = \"c:\\\\users\\\\PC\\\\desktop\"\n",
    "path2 = r\"c:\\users\\PC\\desktop\"\n",
    "print(path1)\n",
    "print(path2)"
   ]
  },
  {
   "cell_type": "markdown",
   "metadata": {},
   "source": [
    "### Multiline Strings\n",
    "You can assign a multiline string to a variable by using three quotes:\n"
   ]
  },
  {
   "cell_type": "code",
   "execution_count": 33,
   "metadata": {},
   "outputs": [
    {
     "name": "stdout",
     "output_type": "stream",
     "text": [
      "\n",
      "Lorem Ipsum is simply dummy text of the printing and typesetting industry.\n",
      "Lorem Ipsum has been the industry's standard dummy text ever since the 1500s, \n",
      "when an unknown printer took a galley of type and scrambled it to make a type specimen book.\n",
      "\n",
      "\n",
      "Lorem Ipsum is simply dummy text of the printing and typesetting industry.\n",
      "Lorem Ipsum has been the industry's standard dummy text ever since the 1500s, \n",
      "when an unknown printer took a galley of type and scrambled it to make a type specimen book.\n",
      "\n"
     ]
    }
   ],
   "source": [
    "a = \"\"\"\n",
    "Lorem Ipsum is simply dummy text of the printing and typesetting industry.\n",
    "Lorem Ipsum has been the industry's standard dummy text ever since the 1500s, \n",
    "when an unknown printer took a galley of type and scrambled it to make a type specimen book.\n",
    "\"\"\"\n",
    "\n",
    "b = '''\n",
    "Lorem Ipsum is simply dummy text of the printing and typesetting industry.\n",
    "Lorem Ipsum has been the industry's standard dummy text ever since the 1500s, \n",
    "when an unknown printer took a galley of type and scrambled it to make a type specimen book.\n",
    "'''\n",
    "\n",
    "print(a)\n",
    "print(b)"
   ]
  },
  {
   "cell_type": "markdown",
   "metadata": {},
   "source": [
    "### Integer\n",
    "\n",
    "When an integer is enclosed by single or double quotation, python read it as string."
   ]
  },
  {
   "cell_type": "code",
   "execution_count": 34,
   "metadata": {},
   "outputs": [
    {
     "name": "stdout",
     "output_type": "stream",
     "text": [
      "<class 'int'>\n",
      "<class 'str'>\n"
     ]
    }
   ],
   "source": [
    "a = 1 \n",
    "b = \"1\"\n",
    "\n",
    "print(type(a))\n",
    "print(type(b))"
   ]
  },
  {
   "cell_type": "markdown",
   "metadata": {},
   "source": [
    "### Setting the Specific Data Type\n",
    "- If you want to specify the data type, you can use the following constructor functions:"
   ]
  },
  {
   "cell_type": "code",
   "execution_count": 35,
   "metadata": {},
   "outputs": [],
   "source": [
    "age = int(18)                                                # int\n",
    "greet = str(\"hello world\")                                   # string\n",
    "status = bool(True)                                           # boolean\n",
    "animal_list = list((\"dog\", \"cat\"))                            # list\n",
    "tuple_of_animals = tuple((\"dog\", \"cat\"))                       # tuple\n",
    "sets_of_animals = set((\"dog\", \"cat\"))                        # set\n",
    "animal_dictionary = dict(type=\"dog\", breed=\"aspin\")     # dictionary\n",
    "height_1 = float(5.5)                                          # float\n",
    "height_2 = int(6)                                            # int\n",
    "age_2 = int(age)                                             # int\n",
    "j = float(height_1 + height_2)                                 # float"
   ]
  },
  {
   "cell_type": "markdown",
   "metadata": {},
   "source": [
    "Example:  \n",
    "\n",
    "The b value is a string, and the c is integer, then d is float.\n"
   ]
  },
  {
   "cell_type": "code",
   "execution_count": 38,
   "metadata": {},
   "outputs": [
    {
     "name": "stdout",
     "output_type": "stream",
     "text": [
      "<class 'str'>\n",
      "1\n",
      "1.0\n"
     ]
    }
   ],
   "source": [
    "b = str(1) # \"1\"\n",
    "c = int(1) # 1\n",
    "d = float(1) # 1.0\n",
    "\n",
    "print(type(b))\n",
    "print(c)\n",
    "print(d)"
   ]
  },
  {
   "cell_type": "markdown",
   "metadata": {},
   "source": [
    "## Casting / Type Casting\n",
    "- Converting one data type to another is known as casting. Python is an object-orientated language, and as such it uses classes to define data types, including its primitive types. Casting in python is therefore done using constructor functions.\n",
    "\n",
    "Example: The value of variable `a` is `string` and convert it into `integer` using the `int()` constructor function.\n"
   ]
  },
  {
   "cell_type": "code",
   "execution_count": 39,
   "metadata": {},
   "outputs": [
    {
     "name": "stdout",
     "output_type": "stream",
     "text": [
      "<class 'str'>\n",
      "<class 'int'>\n"
     ]
    }
   ],
   "source": [
    "a = \"1\"\n",
    "print(type(a))\n",
    "a = int(a)\n",
    "print(type(a))"
   ]
  },
  {
   "cell_type": "markdown",
   "metadata": {},
   "source": [
    "## Operators\n",
    "\n",
    "Operators are used to perform operations on variables and values. Python divides the operators in the following groups:\n",
    "- Arithmetic operators\n",
    "- Assignment operators\n",
    "- Comparison operators\n",
    "- Logical operators\n",
    "- Identity operators\n",
    "- Membership operators\n",
    "- Bitwise operators\n"
   ]
  },
  {
   "cell_type": "markdown",
   "metadata": {},
   "source": [
    "### Python Arithmetic Operators\n",
    "Arithmetic operators are used with numeric values to perform common mathematical operations:\n",
    "\n",
    "| Operator | Name | Example |\n",
    "|:-|:-|:-|\n",
    "| + | Addition | `a + b` |\n",
    "| - | Subtraction | `a - b` |\n",
    "| * | Multiplication | `a * b` |\n",
    "| / | Division | `a / b` |\n",
    "| % | Modolus | `a % b` |\n",
    "| ** | Exponentiation | `a ** b` |\n",
    "| // | Floor Division | `a // b` |"
   ]
  },
  {
   "cell_type": "markdown",
   "metadata": {},
   "source": [
    "### Python Assignment Operators\n",
    "Assignment operators are used to assign values to variables:\n",
    "\n",
    "| Operator | Example | Same as |\n",
    "|:-|:-|:-|\n",
    "| = | a = 5 | a = 5 |\n",
    "| += | a += 5 | a = a + 5 |\n",
    "| -= | a -= 5 | a = a - 5 |\n",
    "| *= | a *= 5 | a = a * 5 |\n",
    "| /= | a /= 5 | a = a / 5 |\n",
    "| %= | a %= 5 | a = a % 5 |\n",
    "| **= | a **= 5 | a = a ** 5 |\n",
    "| //= | a //= 5 | a = a // 5 |\n"
   ]
  },
  {
   "cell_type": "markdown",
   "metadata": {},
   "source": [
    "### Python Comparison Operators\n",
    "Comparison operators are used to compare two values:\n",
    "\n",
    "| Operator | Name | Example |\n",
    "|:-|:-|:-|\n",
    "| == | Equal | x == y |\n",
    "| != | Not Equal | x != y |\n",
    "| > | Greater than | x > y |\n",
    "| < | Less than | x < y |\n",
    "| >= | Greater than or Equal | x >= y |\n",
    "| <= | Less than or Equal | x <= y |"
   ]
  },
  {
   "cell_type": "markdown",
   "metadata": {},
   "source": [
    "### Python Logical Operators\n",
    "Logical operators are used to combine conditional statements:\n",
    "\n",
    "| Operator | Desciption | Example |\n",
    "|:-|:-|:-|\n",
    "| and | Return `True` if both statements are true | `x < 5 and x < 10` |\n",
    "| or | Return `True` if one of the statements is true | `x < 5 or x < 4` |\n",
    "| not | Reverse the result, Return `False` if results is true | `not(x < 5 and x < 10)` |"
   ]
  },
  {
   "cell_type": "markdown",
   "metadata": {},
   "source": [
    "### Python Identity Operators\n",
    "Identity operators are used to compare the objects, not if they are equal, but if they are the same object, with the same memory location:\n",
    "\n",
    "| Operator | Description | Example |\n",
    "|:-|:-|:-|\n",
    "| is | Returns `True` if both variables are the same object | `x is y` |\n",
    "| is not | Returns `True` if both variables are not the same object | `x is not y` |"
   ]
  },
  {
   "cell_type": "markdown",
   "metadata": {},
   "source": [
    "### Python Membership Operators\n",
    "Membership operators are used to test if a sequence is presented in an object:\n",
    "\n",
    "| Operator | Description | Example |\n",
    "|:-|:-|:-|\n",
    "| in | Returns `True` if a sequence with the specified value is present in the object | `x in y` |\n",
    "| not in | Returns `True` if a sequence with the specified value is not present in the objectt | `x not in y` |"
   ]
  },
  {
   "cell_type": "markdown",
   "metadata": {},
   "source": [
    "## Expression\n",
    "An Expression is a sequence or combination of values, variables, operators and function calls that always produces or returns a result value.\n"
   ]
  },
  {
   "cell_type": "code",
   "execution_count": 40,
   "metadata": {},
   "outputs": [],
   "source": [
    "x = 5\n",
    "y = 3\n",
    "z = x + y"
   ]
  },
  {
   "cell_type": "markdown",
   "metadata": {},
   "source": [
    "In the above example x, y and z are variables, 5 and 3 are values, = and + are operators.  \n",
    "\n",
    "So, the first combination x = 5 is an expression, the second combination y = 3 is an another expression and at last, z = x + y is also an expression.  \n",
    "\n",
    "An Expression always evaluates (calculate) to itself.\n"
   ]
  },
  {
   "cell_type": "code",
   "execution_count": 41,
   "metadata": {},
   "outputs": [
    {
     "data": {
      "text/plain": [
       "int"
      ]
     },
     "execution_count": 41,
     "metadata": {},
     "output_type": "execute_result"
    }
   ],
   "source": [
    "# using function in an expression\n",
    "type(5)"
   ]
  },
  {
   "cell_type": "markdown",
   "metadata": {},
   "source": [
    "## Statements\n",
    "Any Instruction that a python interpreter can execute (carry out) is called a Statement. An Instruction is an order/command given to a computer processor by a computer program to perform some mathematical or logical manipulations (calculations). Each line or a sentence in any programming language is called an instruction.  \n",
    "\n",
    "A Statement is the smallest executable unit of code that has an effect, like creating a variable or displaying a value. Each line of code that we write in any programming language is called a statement. Because all the lines are executable by the interpreter or the compiler of that programming language.\n"
   ]
  },
  {
   "cell_type": "markdown",
   "metadata": {},
   "source": [
    "## Identifiers\n",
    "Variable name is known as identifier. There are few rules that you must follow while naming the variables in Python. For example, here the variable is of integer type that holds the value `10`. The name of the variable, which is `num` is called identifier.\n"
   ]
  },
  {
   "cell_type": "code",
   "execution_count": null,
   "metadata": {},
   "outputs": [],
   "source": [
    "num = 10"
   ]
  },
  {
   "cell_type": "markdown",
   "metadata": {},
   "source": [
    "## Concatenation\n",
    "String concatenation means add strings together. Use the `+` character to add a variable to another variable or a value to another value:\n"
   ]
  },
  {
   "cell_type": "code",
   "execution_count": 43,
   "metadata": {},
   "outputs": [
    {
     "name": "stdout",
     "output_type": "stream",
     "text": [
      "Python is Awesome\n",
      "Hello World\n",
      "I Love Python\n"
     ]
    }
   ],
   "source": [
    "x = \"Python\"\n",
    "y = \" is Awesome\"\n",
    "z = x + y\n",
    "print(z)\n",
    "print(\"Hello\" + \" World\")\n",
    "print(\"I Love \" + x)"
   ]
  },
  {
   "cell_type": "markdown",
   "metadata": {},
   "source": [
    "For numbers, the `+` character works as a mathematical operator:"
   ]
  },
  {
   "cell_type": "code",
   "execution_count": 44,
   "metadata": {},
   "outputs": [
    {
     "name": "stdout",
     "output_type": "stream",
     "text": [
      "15\n"
     ]
    }
   ],
   "source": [
    "x = 5\n",
    "y = 10\n",
    "print(x + y)"
   ]
  },
  {
   "cell_type": "markdown",
   "metadata": {},
   "source": [
    "If you try to combine a `string` and a `number`, Python will give you an error:"
   ]
  },
  {
   "cell_type": "code",
   "execution_count": 47,
   "metadata": {},
   "outputs": [
    {
     "ename": "TypeError",
     "evalue": "can only concatenate str (not \"int\") to str",
     "output_type": "error",
     "traceback": [
      "\u001b[1;31m---------------------------------------------------------------------------\u001b[0m",
      "\u001b[1;31mTypeError\u001b[0m                                 Traceback (most recent call last)",
      "Cell \u001b[1;32mIn [47], line 2\u001b[0m\n\u001b[0;32m      1\u001b[0m x \u001b[39m=\u001b[39m \u001b[39m5\u001b[39m\n\u001b[1;32m----> 2\u001b[0m y \u001b[39m=\u001b[39m \u001b[39m\"\u001b[39;49m\u001b[39m My age is \u001b[39;49m\u001b[39m\"\u001b[39;49m \u001b[39m+\u001b[39;49m x\n\u001b[0;32m      3\u001b[0m \u001b[39mprint\u001b[39m(y)\n",
      "\u001b[1;31mTypeError\u001b[0m: can only concatenate str (not \"int\") to str"
     ]
    }
   ],
   "source": [
    "x = 5\n",
    "y = \" My age is \" + x\n",
    "print(y)"
   ]
  },
  {
   "cell_type": "markdown",
   "metadata": {},
   "source": [
    "So, to concatenate a string into a number or integer value, you need to `cast` it into string using `str` function:"
   ]
  },
  {
   "cell_type": "code",
   "execution_count": 48,
   "metadata": {},
   "outputs": [
    {
     "name": "stdout",
     "output_type": "stream",
     "text": [
      " My age is 5\n"
     ]
    }
   ],
   "source": [
    "x = 5\n",
    "y = \" My age is \" + str(x)\n",
    "print(y)"
   ]
  },
  {
   "cell_type": "markdown",
   "metadata": {},
   "source": [
    "## String Formatting / Placeholders\n",
    "The placeholders can be identified using named indexes `{name}`, numbered indexes `{0}`, or even empty placeholders `{}`.\n",
    "\n",
    "`format()`\n",
    "\n",
    "The `format()` method allows you to format selected parts of a string. Sometimes there are parts of a text that you do not control, maybe they come from a database, or user input?\n"
   ]
  },
  {
   "cell_type": "markdown",
   "metadata": {},
   "source": [
    "### Empty placeholders\n",
    "\n",
    "To control such values, add placeholders (curly brackets `{}`) in the text, and run the values through the `format()` method:"
   ]
  },
  {
   "cell_type": "code",
   "execution_count": 49,
   "metadata": {},
   "outputs": [
    {
     "name": "stdout",
     "output_type": "stream",
     "text": [
      " My age is 5\n"
     ]
    }
   ],
   "source": [
    "x = 5\n",
    "y = \" My age is {}\".format(x)\n",
    "print(y)"
   ]
  },
  {
   "cell_type": "code",
   "execution_count": 50,
   "metadata": {},
   "outputs": [
    {
     "name": "stdout",
     "output_type": "stream",
     "text": [
      "I am 18 years old.\n",
      "I am 18 years old.\n"
     ]
    }
   ],
   "source": [
    "age = 18\n",
    "text = \"I am {} years old.\"\n",
    "print(text.format(age))\n",
    "\n",
    "# OR\n",
    "print(\"I am {} years old.\".format(age))"
   ]
  },
  {
   "cell_type": "markdown",
   "metadata": {},
   "source": [
    "You can add parameters inside the curly brackets to specify how to convert the value: More parameters formatting type on https://www.w3schools.com/python/ref_string_format.asp  \n",
    "\n",
    "Example:  \n",
    "Format the price to be displayed as a number with two decimals:\n"
   ]
  },
  {
   "cell_type": "code",
   "execution_count": 51,
   "metadata": {},
   "outputs": [
    {
     "name": "stdout",
     "output_type": "stream",
     "text": [
      "I am 18.00 years old.\n",
      "I am 18.00 years old.\n"
     ]
    }
   ],
   "source": [
    "age = 18\n",
    "text = \"I am {:.2f} years old.\"\n",
    "print(text.format(age))\n",
    "\n",
    "# OR\n",
    "print(\"I am {:.2f} years old.\".format(age))"
   ]
  },
  {
   "cell_type": "markdown",
   "metadata": {},
   "source": [
    "For multiple empty placeholders, the first parameter of `format()` method will be the first value of the first placeholders. It depends on `order` of format parameters."
   ]
  },
  {
   "cell_type": "code",
   "execution_count": 52,
   "metadata": {},
   "outputs": [
    {
     "name": "stdout",
     "output_type": "stream",
     "text": [
      "My name is Red and I'm 18 years old.\n"
     ]
    }
   ],
   "source": [
    "age = 18\n",
    "print(\"My name is {} and I'm {} years old.\".format(\"Red\", age))"
   ]
  },
  {
   "cell_type": "markdown",
   "metadata": {},
   "source": [
    "### Numbered Index placeholders\n",
    "You can use index numbers (a number inside the curly brackets `{0}`) to be sure the values are placed in the correct placeholders:\n"
   ]
  },
  {
   "cell_type": "code",
   "execution_count": 53,
   "metadata": {},
   "outputs": [
    {
     "name": "stdout",
     "output_type": "stream",
     "text": [
      "My name is Red and I'm 18 years old.\n",
      "My name is 18 and I'm Red years old.\n"
     ]
    }
   ],
   "source": [
    "age = 18\n",
    "print(\"My name is {0} and I'm {1} years old.\".format(\"Red\", age))\n",
    "print(\"My name is {1} and I'm {0} years old.\".format(\"Red\", age))"
   ]
  },
  {
   "cell_type": "markdown",
   "metadata": {},
   "source": [
    "Also, if you want to refer to the same value more than once, use the index number:"
   ]
  },
  {
   "cell_type": "code",
   "execution_count": 54,
   "metadata": {},
   "outputs": [
    {
     "name": "stdout",
     "output_type": "stream",
     "text": [
      "My name is Red. Red is 18 years old.\n"
     ]
    }
   ],
   "source": [
    "age = 18\n",
    "print(\"My name is {0}. {0} is {1} years old.\".format(\"Red\", age))"
   ]
  },
  {
   "cell_type": "markdown",
   "metadata": {},
   "source": [
    "### Named Indexes placeholders\n",
    "You can also use named indexes by entering a `name` inside the curly brackets `{name}`, but then you must use names when you pass the parameter values “My name is {name}”.format(name = \"Red\"):\n"
   ]
  },
  {
   "cell_type": "code",
   "execution_count": 55,
   "metadata": {},
   "outputs": [
    {
     "name": "stdout",
     "output_type": "stream",
     "text": [
      "My name is Red. Red is 18 years old.\n"
     ]
    }
   ],
   "source": [
    "age = 18\n",
    "print(\"My name is {name}. {name} is {age} years old.\".format(name =\"Red\", age =age))"
   ]
  },
  {
   "cell_type": "markdown",
   "metadata": {},
   "source": [
    "## String %\n",
    "Strings in Python have a unique built-in operation that can be accessed with the `%` operator. This lets you do simple positional formatting very easily.\n",
    "\n",
    "\n",
    "### String (`%s`) and Float(`%f`)\n"
   ]
  },
  {
   "cell_type": "code",
   "execution_count": 56,
   "metadata": {},
   "outputs": [
    {
     "name": "stdout",
     "output_type": "stream",
     "text": [
      "My name is Juan, my salary is 1000.00 per day.\n"
     ]
    }
   ],
   "source": [
    "name = \"Juan\"\n",
    "print(\"My name is %s, my salary is %.2f per day.\" % (name, 1000))"
   ]
  },
  {
   "cell_type": "markdown",
   "metadata": {},
   "source": [
    "You can add numbers in String (%s) placeholders to insert a whitespace before and after of a string. %10s added spaces before the string value, and -10s added spaces after the string value."
   ]
  },
  {
   "cell_type": "markdown",
   "metadata": {},
   "source": [
    "### Character (%c)"
   ]
  },
  {
   "cell_type": "code",
   "execution_count": 57,
   "metadata": {},
   "outputs": [
    {
     "name": "stdout",
     "output_type": "stream",
     "text": [
      "The character after B is C.\n"
     ]
    }
   ],
   "source": [
    "sample_text = \"The character after %c is %c.\" % (\"B\", \"C\")\n",
    "print(sample_text)"
   ]
  },
  {
   "cell_type": "markdown",
   "metadata": {},
   "source": [
    "### f-Strings\n",
    "Also called “`formatted string literals`”, f-strings are string literals that have an `f` at the beginning and curly braces containing expressions (e.g.: variable, function, etc.) that will be replaced with their values.\n"
   ]
  },
  {
   "cell_type": "code",
   "execution_count": 58,
   "metadata": {},
   "outputs": [
    {
     "name": "stdout",
     "output_type": "stream",
     "text": [
      "Hello, I'm red, 21 years old.\n"
     ]
    }
   ],
   "source": [
    "name = \"red\"\n",
    "age = 21\n",
    "sample_text = f\"Hello, I'm {name}, {age} years old.\"\n",
    "print(sample_text)"
   ]
  },
  {
   "cell_type": "markdown",
   "metadata": {},
   "source": [
    "## Keywords\n",
    "Python has a set of keywords that are reserved words that cannot be used as variable names, function names, or any other identifiers:\n",
    "\n",
    "| Keyword | Description |\n",
    "|:-|:-|\n",
    "| and | A logical oeprator |\n",
    "| as | To create an alias |\n",
    "| def | To define a function |\n",
    "| class | To define a class | \n",
    "| if | To make a conditional statement | \n",
    "\n",
    "For more keyword, visit https://www.w3schools.com/python/python_ref_keywords.asp"
   ]
  },
  {
   "cell_type": "markdown",
   "metadata": {},
   "source": [
    "## Getting User Input\n",
    "Python allows for user input. That means we can ask the user for input. The method is a bit different in Python 3.6 than Python 2.7. `Python 3.6` uses the `input()` method. `Python 2.7` uses the `raw_input()` method. \n",
    "\n",
    "The following example asks for the username, and when you entered the username, it gets printed on the screen.\n",
    "\n",
    "Python 3.6:\n"
   ]
  },
  {
   "cell_type": "code",
   "execution_count": 59,
   "metadata": {},
   "outputs": [
    {
     "name": "stdout",
     "output_type": "stream",
     "text": [
      "Hello Red\n"
     ]
    }
   ],
   "source": [
    "name = input(\"Enter your name: \")\n",
    "\n",
    "print(\"Hello \" + name)"
   ]
  },
  {
   "cell_type": "markdown",
   "metadata": {},
   "source": [
    "Note: Python stops executing when it comes to the input() function, and continues when the user has given some input."
   ]
  },
  {
   "cell_type": "code",
   "execution_count": 1,
   "metadata": {},
   "outputs": [
    {
     "name": "stdout",
     "output_type": "stream",
     "text": [
      "22\n"
     ]
    }
   ],
   "source": [
    "age = input(\"Enter your age:\")\n",
    "print(int(age) + 1)"
   ]
  }
 ],
 "metadata": {
  "kernelspec": {
   "display_name": "Python 3 (ipykernel)",
   "language": "python",
   "name": "python3"
  },
  "language_info": {
   "codemirror_mode": {
    "name": "ipython",
    "version": 3
   },
   "file_extension": ".py",
   "mimetype": "text/x-python",
   "name": "python",
   "nbconvert_exporter": "python",
   "pygments_lexer": "ipython3",
   "version": "3.9.7"
  },
  "vscode": {
   "interpreter": {
    "hash": "3103f0df81466cced26978c1f00aec304c6c4f54b027625b12ba1120a1fef288"
   }
  }
 },
 "nbformat": 4,
 "nbformat_minor": 2
}
