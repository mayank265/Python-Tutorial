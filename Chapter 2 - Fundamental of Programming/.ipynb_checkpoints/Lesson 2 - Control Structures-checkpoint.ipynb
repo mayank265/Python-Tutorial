{
 "cells": [
  {
   "cell_type": "markdown",
   "metadata": {},
   "source": [
    "# Control Structure\n",
    "- A control structure (or flow of control) is a block of programming that analyses variables and chooses a direction in which to go based on given parameters.\n",
    "- The basic decision-making process in programming and flow of control determines how a computer program will respond when given certain conditions and parameters.\n"
   ]
  },
  {
   "cell_type": "markdown",
   "metadata": {},
   "source": [
    "## Selection\n",
    "The selection statements are also known as decision making statements or branching statements. Provides a choice between two alternatives.\n"
   ]
  },
  {
   "cell_type": "markdown",
   "metadata": {},
   "source": [
    "### The if statement\n",
    "\n",
    "Syntax:"
   ]
  },
  {
   "cell_type": "code",
   "execution_count": 1,
   "metadata": {},
   "outputs": [],
   "source": [
    "# if condition:  \n",
    "#     statement\n",
    "\n",
    "# if condition:  \n",
    "#     statement1\n",
    "#     statement2"
   ]
  },
  {
   "cell_type": "code",
   "execution_count": 1,
   "metadata": {},
   "outputs": [
    {
     "name": "stdout",
     "output_type": "stream",
     "text": [
      "You're not a child.\n"
     ]
    }
   ],
   "source": [
    "age = 21\n",
    "\n",
    "if age >= 12:\n",
    "    print(\"You're not a child.\")"
   ]
  },
  {
   "cell_type": "markdown",
   "metadata": {},
   "source": [
    "### The elif and else statement:"
   ]
  },
  {
   "cell_type": "code",
   "execution_count": 2,
   "metadata": {},
   "outputs": [],
   "source": [
    "# if condition:  \n",
    "#     statement\n",
    "# elif condition:\n",
    "#     statement\n",
    "# else:\n",
    "#     statement"
   ]
  },
  {
   "cell_type": "code",
   "execution_count": 4,
   "metadata": {},
   "outputs": [
    {
     "name": "stdout",
     "output_type": "stream",
     "text": [
      "You're a child.\n"
     ]
    }
   ],
   "source": [
    "age = 6\n",
    "\n",
    "if age >= 12:\n",
    "    print(\"You're not a child.\")\n",
    "elif age < 12:\n",
    "    print(\"You're a child.\")"
   ]
  },
  {
   "cell_type": "code",
   "execution_count": 5,
   "metadata": {},
   "outputs": [
    {
     "name": "stdout",
     "output_type": "stream",
     "text": [
      "You're a child.\n"
     ]
    }
   ],
   "source": [
    "age = 5\n",
    "\n",
    "if age >= 12:\n",
    "    print(\"You're not a child.\")\n",
    "else:\n",
    "    print(\"You're a child.\")"
   ]
  },
  {
   "cell_type": "markdown",
   "metadata": {},
   "source": [
    "### Compound Conditions\n",
    "- Have more than 1 conditional expression\n",
    "- The result of the compound expression depends on the individual result of each condition\n",
    "\n",
    "The `AND` and `OR` keyword is a logical operator, and is used to combine conditional statements.\n",
    "\n",
    "Format:  \n",
    "(condition1) `and` (condition2) – return True if the two condition are the same true.  \n",
    "(condition1) `or` (condition2) – return True if one of the two condition is true.  \n",
    "\n",
    "Example:\n"
   ]
  },
  {
   "cell_type": "code",
   "execution_count": 3,
   "metadata": {},
   "outputs": [],
   "source": [
    "# if condition1 and condition2:\n",
    "#     statement"
   ]
  },
  {
   "cell_type": "code",
   "execution_count": 6,
   "metadata": {},
   "outputs": [
    {
     "name": "stdout",
     "output_type": "stream",
     "text": [
      "You're a old.\n"
     ]
    }
   ],
   "source": [
    "age = 21\n",
    "\n",
    "if age >= 12 and age <= 19:\n",
    "    print(\"You're a teen.\")\n",
    "elif age < 12:\n",
    "    print(\"You're a child.\")\n",
    "elif age > 19 and age <= 55:\n",
    "    print(\"You're a old.\")\n",
    "else:\n",
    "    print(\"You're an senior\")"
   ]
  },
  {
   "cell_type": "markdown",
   "metadata": {},
   "source": [
    "Python Built-in Conditional Methods\n",
    "* isupper() - Returns True if all characters in the string are upper case\n",
    "* islower() - Returns True if all characters in the string are lower case\n",
    "* isdigit() - Returns True if all characters in the string are digits\n",
    "* isalpha() - Returns True if all characters in the string are in the alphabet"
   ]
  },
  {
   "cell_type": "markdown",
   "metadata": {},
   "source": [
    "### Nested If\n",
    "You can have if statements inside if statements, this is called nested if statements.\n"
   ]
  },
  {
   "cell_type": "code",
   "execution_count": 5,
   "metadata": {},
   "outputs": [],
   "source": [
    "# if condition1:\n",
    "#     if condition:\n",
    "#         statement"
   ]
  },
  {
   "cell_type": "code",
   "execution_count": 6,
   "metadata": {},
   "outputs": [],
   "source": [
    "# if condition1:\n",
    "#     if condition:\n",
    "#         statement\n",
    "#     else:\n",
    "#         statement\n",
    "# else:\n",
    "#     statement"
   ]
  },
  {
   "cell_type": "code",
   "execution_count": 7,
   "metadata": {},
   "outputs": [
    {
     "name": "stdout",
     "output_type": "stream",
     "text": [
      "You're a teen.\n",
      "You are allowed to vote.\n"
     ]
    }
   ],
   "source": [
    "age = 18\n",
    "\n",
    "if age >= 12 and age <= 19:\n",
    "    print(\"You're a teen.\")\n",
    "    if age <= 18:\n",
    "        print(\"You are allowed to vote.\")\n",
    "elif age < 12:\n",
    "    print(\"You're a child.\")\n",
    "elif age > 19 and age <= 55:\n",
    "    print(\"You're a old and allowed to vote\")\n",
    "else:\n",
    "    print(\"You're an senior allowed to vote\")"
   ]
  },
  {
   "cell_type": "markdown",
   "metadata": {},
   "source": [
    "### Match Case"
   ]
  },
  {
   "cell_type": "code",
   "execution_count": 2,
   "metadata": {},
   "outputs": [
    {
     "name": "stdout",
     "output_type": "stream",
     "text": [
      "Thursday\n",
      "Sunday\n",
      "Invalid day number\n"
     ]
    }
   ],
   "source": [
    "def weekday(n):\n",
    "   match n:\n",
    "      case 0: return \"Monday\"\n",
    "      case 1: return \"Tuesday\"\n",
    "      case 2: return \"Wednesday\"\n",
    "      case 3: return \"Thursday\"\n",
    "      case 4: return \"Friday\"\n",
    "      case 5: return \"Saturday\"\n",
    "      case 6: return \"Sunday\"\n",
    "      case _: return \"Invalid day number\"\n",
    "print (weekday(3))\n",
    "print (weekday(6))\n",
    "print (weekday(7))"
   ]
  },
  {
   "cell_type": "markdown",
   "metadata": {},
   "source": [
    "https://www.tutorialspoint.com/python/python_matchcase_statement.htm"
   ]
  },
  {
   "cell_type": "markdown",
   "metadata": {},
   "source": [
    "---"
   ]
  },
  {
   "cell_type": "markdown",
   "metadata": {},
   "source": [
    "## Iteration\n",
    "Most useful and powerful structure. Allows the repetition of instructions or statements in the loop body.\n",
    "\n",
    "## Types of Iteration\n",
    "1. while loop\n",
    "2. for loop\n",
    "- Keywords used in for loop  \n",
    "`In`  \n",
    "`Range`\n"
   ]
  },
  {
   "cell_type": "markdown",
   "metadata": {},
   "source": [
    "### while\n",
    "With the while loop we can execute a set of statements as long as a condition is true."
   ]
  },
  {
   "cell_type": "code",
   "execution_count": 7,
   "metadata": {},
   "outputs": [],
   "source": [
    "# while condition:\n",
    "#     statement1\n",
    "#     statement2\n"
   ]
  },
  {
   "cell_type": "markdown",
   "metadata": {},
   "source": [
    "Example:"
   ]
  },
  {
   "cell_type": "code",
   "execution_count": 8,
   "metadata": {},
   "outputs": [
    {
     "name": "stdout",
     "output_type": "stream",
     "text": [
      "1\n",
      "2\n",
      "3\n",
      "4\n",
      "5\n"
     ]
    }
   ],
   "source": [
    "counter = 1\n",
    "while counter < 6:\n",
    "    print(counter)\n",
    "    counter += 1    # same as counter = counter + 1"
   ]
  },
  {
   "cell_type": "markdown",
   "metadata": {},
   "source": [
    "The statements inside the while loop are executed as long as the condition remains true. Remember to increment the counter variable, or else the loop will continue forever."
   ]
  },
  {
   "cell_type": "markdown",
   "metadata": {},
   "source": [
    "### For\n",
    "- A for loop is used for iterating over a sequence (that is either a list, a tuple, a dictionary, a set, or a string).\n",
    "- This is less like the for keyword in other programming languages, and works more like an iterator method as found in other object-orientated programming languages. With the for loop we can execute a set of statements, once for each item in a list, tuple, set etc.\n"
   ]
  },
  {
   "cell_type": "markdown",
   "metadata": {},
   "source": [
    "Example of for loop using `in` keyword:"
   ]
  },
  {
   "cell_type": "code",
   "execution_count": 9,
   "metadata": {},
   "outputs": [
    {
     "name": "stdout",
     "output_type": "stream",
     "text": [
      "Juan\n",
      "Pedro\n",
      "Jose\n"
     ]
    }
   ],
   "source": [
    "peoples = [\"Juan\", \"Pedro\", \"Jose\"]\n",
    "for people in peoples:\n",
    "    print(people)"
   ]
  },
  {
   "cell_type": "markdown",
   "metadata": {},
   "source": [
    "Example of for loop using `range` keyword:"
   ]
  },
  {
   "cell_type": "code",
   "execution_count": null,
   "metadata": {},
   "outputs": [],
   "source": [
    "peoples = [\"Juan\", \"Pedro\", \"Jose\"]\n",
    "#            0       1        2\n",
    "#print(peoples[0:2])\n",
    "#print(len(peoples))\n",
    "\n",
    "print(range(3)) # [0,1,2]"
   ]
  },
  {
   "cell_type": "code",
   "execution_count": 10,
   "metadata": {},
   "outputs": [
    {
     "name": "stdout",
     "output_type": "stream",
     "text": [
      "0\n",
      "Juan\n",
      "1\n",
      "Pedro\n",
      "2\n",
      "Jose\n"
     ]
    }
   ],
   "source": [
    "peoples = [\"Juan\", \"Pedro\", \"Jose\"]\n",
    "for index in range(len(peoples)):\n",
    "    print(index)\n",
    "    print(peoples[index])"
   ]
  },
  {
   "cell_type": "code",
   "execution_count": 11,
   "metadata": {},
   "outputs": [
    {
     "name": "stdout",
     "output_type": "stream",
     "text": [
      "10\n",
      "11\n",
      "12\n",
      "13\n",
      "14\n",
      "15\n",
      "16\n",
      "17\n",
      "18\n",
      "19\n"
     ]
    }
   ],
   "source": [
    "for index in range(10,20):\n",
    "    print(index)"
   ]
  },
  {
   "cell_type": "code",
   "execution_count": 12,
   "metadata": {},
   "outputs": [
    {
     "name": "stdout",
     "output_type": "stream",
     "text": [
      "0\n",
      "1\n",
      "2\n"
     ]
    }
   ],
   "source": [
    "for index in range(3):\n",
    "    print(index)"
   ]
  },
  {
   "cell_type": "markdown",
   "metadata": {},
   "source": [
    "`in` keyword is also used in membership operator"
   ]
  },
  {
   "cell_type": "code",
   "execution_count": 16,
   "metadata": {},
   "outputs": [
    {
     "name": "stdout",
     "output_type": "stream",
     "text": [
      "yes\n"
     ]
    }
   ],
   "source": [
    "p = [\"Juan\", \"Pedro\", \"Jose\"]\n",
    "if \"Juan\" in p:\n",
    "    print(\"yes\")"
   ]
  },
  {
   "cell_type": "code",
   "execution_count": 17,
   "metadata": {},
   "outputs": [
    {
     "name": "stdout",
     "output_type": "stream",
     "text": [
      "yes\n"
     ]
    }
   ],
   "source": [
    "p = \"Juan\"\n",
    "if \"u\" in p:\n",
    "    print(\"yes\")"
   ]
  },
  {
   "cell_type": "markdown",
   "metadata": {},
   "source": [
    "### Break Statements\n",
    "- With the break statement we can stop the loop even if the while condition is true:\n",
    "- force immediate termination of a loop, bypassing the conditional expression and any remaining code in the body of the loop\n",
    "- The loop is terminated, and program control resumes at the next statement following the loop\n"
   ]
  },
  {
   "cell_type": "code",
   "execution_count": 18,
   "metadata": {},
   "outputs": [
    {
     "name": "stdout",
     "output_type": "stream",
     "text": [
      "Juan\n"
     ]
    }
   ],
   "source": [
    "peoples = [\"Juan\", \"Pedro\", \"Jose\"]\n",
    "for people in peoples:\n",
    "    if(people == \"Pedro\"):\n",
    "        break\n",
    "    print(people)"
   ]
  },
  {
   "cell_type": "code",
   "execution_count": 19,
   "metadata": {},
   "outputs": [
    {
     "name": "stdout",
     "output_type": "stream",
     "text": [
      "1\n",
      "2\n",
      "3\n"
     ]
    }
   ],
   "source": [
    "i = 1\n",
    "while i < 6:\n",
    "    print(i)\n",
    "    if i == 3:\n",
    "        break\n",
    "    i += 1"
   ]
  },
  {
   "cell_type": "markdown",
   "metadata": {},
   "source": [
    "### Continue Statements\n",
    "With the continue statement we can stop the current iteration, and continue with the next:\n",
    "- In loops, a continue statement cause control to be transferred directly to the conditional expression that controls the loop.\n"
   ]
  },
  {
   "cell_type": "code",
   "execution_count": 21,
   "metadata": {},
   "outputs": [
    {
     "name": "stdout",
     "output_type": "stream",
     "text": [
      "2\n",
      "4\n",
      "5\n",
      "6\n"
     ]
    }
   ],
   "source": [
    "i = 1\n",
    "while i < 6:\n",
    "    i += 1\n",
    "    if i == 3:\n",
    "        continue\n",
    "    print(i)"
   ]
  },
  {
   "cell_type": "code",
   "execution_count": 22,
   "metadata": {},
   "outputs": [
    {
     "name": "stdout",
     "output_type": "stream",
     "text": [
      "Juan\n",
      "Jose\n"
     ]
    }
   ],
   "source": [
    "peoples = [\"Juan\", \"Pedro\", \"Jose\"]\n",
    "for people in peoples:\n",
    "    if(people == \"Pedro\"):\n",
    "        continue\n",
    "    print(people)"
   ]
  },
  {
   "cell_type": "markdown",
   "metadata": {},
   "source": [
    "### Else Statements\n",
    "- With the else statement we can run a block of code once when the condition no longer is true:\n",
    "\n",
    "\n",
    "Example:\n"
   ]
  },
  {
   "cell_type": "code",
   "execution_count": 23,
   "metadata": {},
   "outputs": [
    {
     "name": "stdout",
     "output_type": "stream",
     "text": [
      "1\n",
      "2\n",
      "3\n",
      "4\n",
      "5\n",
      "i is no longer less than 6\n"
     ]
    }
   ],
   "source": [
    "i = 1\n",
    "while i < 6:\n",
    "    print(i)\n",
    "    i += 1\n",
    "else:\n",
    "    print(\"i is no longer less than 6\")"
   ]
  },
  {
   "cell_type": "markdown",
   "metadata": {},
   "source": [
    "## Pass Statements\n",
    "The pass statement is a null operation; nothing happens when it executes. The pass is also useful in places where your code will eventually go but has not been written yet.\n"
   ]
  },
  {
   "cell_type": "markdown",
   "metadata": {},
   "source": [
    "The pass statement is used as a placeholder for future code.   \n",
    "When the pass statement is executed, nothing happens, but you avoid getting an error when empty code is not allowed. Empty code is not allowed in loops, function definitions, class definitions, or in if statements.\n"
   ]
  },
  {
   "cell_type": "code",
   "execution_count": 24,
   "metadata": {},
   "outputs": [],
   "source": [
    "# if statement\n",
    "if 1 > 6:\n",
    "    pass"
   ]
  },
  {
   "cell_type": "code",
   "execution_count": 26,
   "metadata": {},
   "outputs": [],
   "source": [
    "# a function\n",
    "def myFunction():\n",
    "    pass"
   ]
  },
  {
   "cell_type": "code",
   "execution_count": 27,
   "metadata": {},
   "outputs": [],
   "source": [
    "# or a class\n",
    "class myClass:\n",
    "    pass"
   ]
  }
 ],
 "metadata": {
  "kernelspec": {
   "display_name": "Python 3 (ipykernel)",
   "language": "python",
   "name": "python3"
  },
  "language_info": {
   "codemirror_mode": {
    "name": "ipython",
    "version": 3
   },
   "file_extension": ".py",
   "mimetype": "text/x-python",
   "name": "python",
   "nbconvert_exporter": "python",
   "pygments_lexer": "ipython3",
   "version": "3.9.7"
  },
  "vscode": {
   "interpreter": {
    "hash": "3103f0df81466cced26978c1f00aec304c6c4f54b027625b12ba1120a1fef288"
   }
  }
 },
 "nbformat": 4,
 "nbformat_minor": 2
}
