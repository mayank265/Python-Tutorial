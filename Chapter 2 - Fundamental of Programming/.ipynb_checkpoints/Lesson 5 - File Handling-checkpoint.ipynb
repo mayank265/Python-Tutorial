{
 "cells": [
  {
   "cell_type": "markdown",
   "metadata": {},
   "source": [
    "# File Handling\n",
    "- Allows the user to read, write, update and delete files.\n",
    "- The reader will also appreciate the fact that the main memory is volatile. The data produced by a program cannot be used for future endeavors. Many times it is required to store the data for use in future. For example, if one develops a student management system, the user should be able to retrieve the data as and when required.\n",
    "\n",
    "THE FILE HANDLING MECHANISM:\n",
    "\n",
    "Open the file: `open(<arguments>)` -> Perform requiaite operations: `read`, `write`, `append` -> Close the file: `close()`\n"
   ]
  },
  {
   "cell_type": "code",
   "execution_count": 1,
   "metadata": {},
   "outputs": [],
   "source": [
    "f           = open('files/file.txt', 'r')\n",
    "#object             #filename       #mode\n",
    "\n",
    "f.close()\n",
    "#object dot operator & close() function"
   ]
  },
  {
   "cell_type": "markdown",
   "metadata": {},
   "source": [
    "## File opening modes in Python\n",
    "\n",
    "### Read\n",
    "1. `r` - reading from file.\n",
    "2. `rb` - read a binary file.\n",
    "3. `r+` - open for read and write.\n",
    "### Write\n",
    "1. `w` - write to a file; creates the file if it does not exist; truncate the file if it already exist.\n",
    "2. `wb` - write mode of a binary file.\n",
    "3. `w+` - w for both read and write.\n",
    "### Append\n",
    "1. `a` - append to the file; if the file does not exist this creates the file.\n",
    "2. `ab` - append mode for a binary file.\n",
    "3. `a+` - a for both read and write.\n",
    "\n",
    "### Other Modes\n",
    "\n",
    "- `rb+` - r+ for a binary file.\n",
    "- `wb+` - w+ for a binary file.\n",
    "- `ab+` - a+ for a binary file."
   ]
  },
  {
   "cell_type": "markdown",
   "metadata": {},
   "source": [
    "## PYTHON FUNCTIONS FOR FILE HANDLING\n",
    "- Python provides various library functions to carry out the standard tasks. The functions help us, say, to read from a file, write to a file and to append something in the existing file. Moreover, Python also provides the programmer with functions to take the cursor to a particular location, or to read from a given location.\n",
    "\n",
    "Allows user to read, write, update, and delete files:\n",
    "- `open()` – to open a file and returns a file object\n",
    "- `read()`, `readline()` – read content of the file\n",
    "- `write()` – to write to an existing file\n",
    "- `close()` – close the file\n",
    "- `delete()` – remove files\n"
   ]
  },
  {
   "cell_type": "markdown",
   "metadata": {},
   "source": [
    "### Open File"
   ]
  },
  {
   "cell_type": "code",
   "execution_count": 3,
   "metadata": {},
   "outputs": [
    {
     "name": "stdout",
     "output_type": "stream",
     "text": [
      "\n",
      "Another Text\n",
      "Another Text\n",
      "Another Text\n"
     ]
    }
   ],
   "source": [
    "File = open(\"files/file.txt\", \"r\")\n",
    "print(File.read())\n",
    "# print(File.readlines())\n",
    "File.close()"
   ]
  },
  {
   "cell_type": "markdown",
   "metadata": {},
   "source": [
    "The read mode (`'r'`) is the default file mode in Python, so if you don’t specify the mode, the code above still works fine:"
   ]
  },
  {
   "cell_type": "code",
   "execution_count": null,
   "metadata": {},
   "outputs": [],
   "source": [
    "File = open(\"files/file.txt\")\n",
    "print(File.read())\n",
    "File.close()"
   ]
  },
  {
   "cell_type": "markdown",
   "metadata": {},
   "source": [
    "### Write to a File"
   ]
  },
  {
   "cell_type": "code",
   "execution_count": 10,
   "metadata": {},
   "outputs": [
    {
     "name": "stdout",
     "output_type": "stream",
     "text": [
      "\n",
      "Sample Text\n"
     ]
    }
   ],
   "source": [
    "File = open(\"files/file1.txt\", \"a\")\n",
    "File.write(\"\\nSample Text\")\n",
    "# File.writelines(\"Another Text in new line\")\n",
    "File.close()\n",
    "\n",
    "File = open(\"files/file1.txt\", \"r\")\n",
    "print(File.read())\n",
    "File.close()"
   ]
  },
  {
   "cell_type": "markdown",
   "metadata": {},
   "source": [
    "### Remove File\n",
    "- to remove a file, you must `import` the `OS` module, and run its `os.remove()` function:"
   ]
  },
  {
   "cell_type": "code",
   "execution_count": 12,
   "metadata": {},
   "outputs": [],
   "source": [
    "import os\n",
    "\n",
    "os.remove(\"files/file1.txt\")"
   ]
  },
  {
   "cell_type": "markdown",
   "metadata": {},
   "source": [
    "## `With` Statement\n",
    "\n",
    "- The with statement works with the open() function to open a file.\n",
    "\n",
    "So, you can re-write the code we used in the open() function example like this:"
   ]
  },
  {
   "cell_type": "code",
   "execution_count": 1,
   "metadata": {},
   "outputs": [
    {
     "name": "stdout",
     "output_type": "stream",
     "text": [
      "\n",
      "Another Text\n",
      "Another Text\n",
      "Another Text\n"
     ]
    }
   ],
   "source": [
    "with open(\"files/file.txt\") as my_file:\n",
    "    print(my_file.read())"
   ]
  },
  {
   "cell_type": "markdown",
   "metadata": {},
   "source": [
    "Unlike `open()` where you have to close the file with the `close()` method, the `with` statement closes the file for you without you telling it to."
   ]
  },
  {
   "cell_type": "markdown",
   "metadata": {},
   "source": [
    "With the write() method, you also write to the file as I did below:"
   ]
  },
  {
   "cell_type": "code",
   "execution_count": 2,
   "metadata": {},
   "outputs": [
    {
     "name": "stdout",
     "output_type": "stream",
     "text": [
      "Hello world \n",
      "I hope you're doing well today \n",
      "This is a text file \n",
      "Have a nice time \n",
      "\n"
     ]
    }
   ],
   "source": [
    "with open(\"files/file.txt\", \"w\") as my_file:\n",
    "    my_file.write(\"Hello world \\n\")\n",
    "    my_file.write(\"I hope you're doing well today \\n\")\n",
    "    my_file.write(\"This is a text file \\n\")\n",
    "    my_file.write(\"Have a nice time \\n\")\n",
    "\n",
    "with open(\"files/file.txt\") as my_file:\n",
    "    print(my_file.read())"
   ]
  },
  {
   "cell_type": "markdown",
   "metadata": {},
   "source": [
    "**You can also loop through the file and print the text line by line:**"
   ]
  },
  {
   "cell_type": "code",
   "execution_count": 3,
   "metadata": {},
   "outputs": [
    {
     "name": "stdout",
     "output_type": "stream",
     "text": [
      "Hello world \n",
      "\n",
      "I hope you're doing well today \n",
      "\n",
      "This is a text file \n",
      "\n",
      "Have a nice time \n",
      "\n"
     ]
    }
   ],
   "source": [
    "with open(\"hello.txt\", \"w\") as my_file:\n",
    "    my_file.write(\"Hello world \\n\")\n",
    "    my_file.write(\"I hope you're doing well today \\n\")\n",
    "    my_file.write(\"This is a text file \\n\")\n",
    "    my_file.write(\"Have a nice time \\n\")\n",
    "\n",
    "with open(\"hello.txt\") as my_file:\n",
    "    for line in my_file:\n",
    "        print(line)"
   ]
  }
 ],
 "metadata": {
  "kernelspec": {
   "display_name": "Python 3 (ipykernel)",
   "language": "python",
   "name": "python3"
  },
  "language_info": {
   "codemirror_mode": {
    "name": "ipython",
    "version": 3
   },
   "file_extension": ".py",
   "mimetype": "text/x-python",
   "name": "python",
   "nbconvert_exporter": "python",
   "pygments_lexer": "ipython3",
   "version": "3.9.7"
  },
  "vscode": {
   "interpreter": {
    "hash": "3103f0df81466cced26978c1f00aec304c6c4f54b027625b12ba1120a1fef288"
   }
  }
 },
 "nbformat": 4,
 "nbformat_minor": 2
}
